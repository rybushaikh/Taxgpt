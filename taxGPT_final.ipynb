{
  "cells": [
    {
      "cell_type": "code",
      "execution_count": 1,
      "metadata": {
        "id": "eAIYwKUm0C5T"
      },
      "outputs": [],
      "source": [
        "from sklearn.metrics.pairwise import pairwise_distances\n",
        "import numpy as np\n",
        "import pandas as pd\n",
        "import matplotlib as plt\n",
        "\n",
        "import seaborn as sns\n",
        "\n",
        "\n",
        "import nltk\n",
        "from nltk.stem import WordNetLemmatizer\n",
        "lemmatizer = WordNetLemmatizer()\n",
        "import json\n",
        "import pickle"
      ]
    },
    {
      "cell_type": "code",
      "execution_count": 2,
      "metadata": {
        "id": "jgP48jov0PQh"
      },
      "outputs": [],
      "source": [
        "import tensorflow as tf\n",
        "from keras.models import Sequential\n",
        "from keras.layers import Dense, Activation, Dropout\n",
        "\n",
        "import random\n"
      ]
    },
    {
      "cell_type": "code",
      "execution_count": 3,
      "metadata": {
        "colab": {
          "base_uri": "https://localhost:8080/"
        },
        "id": "YHw_pcQX0T_N",
        "outputId": "4d027ee7-6193-499b-9cff-f51243251d20"
      },
      "outputs": [
        {
          "output_type": "stream",
          "name": "stdout",
          "text": [
            "(10867, 47)\n"
          ]
        }
      ],
      "source": [
        "df_gpt = pd.read_csv(\"data_gpt.csv\")\n",
        "print(df_gpt.shape)"
      ]
    },
    {
      "cell_type": "code",
      "execution_count": 4,
      "metadata": {
        "colab": {
          "base_uri": "https://localhost:8080/"
        },
        "id": "WeefYVVW0T8l",
        "outputId": "5d8bca01-e714-4d18-b52b-2edb8a3a397f"
      },
      "outputs": [
        {
          "output_type": "stream",
          "name": "stdout",
          "text": [
            "<class 'pandas.core.frame.DataFrame'>\n",
            "RangeIndex: 10867 entries, 0 to 10866\n",
            "Data columns (total 47 columns):\n",
            " #   Column                      Non-Null Count  Dtype  \n",
            "---  ------                      --------------  -----  \n",
            " 0   Submitted at                10867 non-null  object \n",
            " 1   Intro                       10867 non-null  object \n",
            " 2   Basic personal amount (1)   3140 non-null   object \n",
            " 3   region                      3033 non-null   object \n",
            " 4   Basic personal amount       3515 non-null   object \n",
            " 5   Self-employed: not sure     12 non-null     object \n",
            " 6   Self-employed               2334 non-null   object \n",
            " 7   Income: yes                 1134 non-null   object \n",
            " 8   Offramp: info               1114 non-null   object \n",
            " 9   Info offramp: rich          913 non-null    object \n",
            " 10  CVIPT > NETFILE             156 non-null    object \n",
            " 11  Final question              1065 non-null   object \n",
            " 12  Feedback                    1409 non-null   object \n",
            " 13  questionTax                 6097 non-null   object \n",
            " 14  questionTax2                2605 non-null   object \n",
            " 15  questionTax3                1146 non-null   object \n",
            " 16  questionTax4                598 non-null    object \n",
            " 17  questionTax5                349 non-null    object \n",
            " 18  questionFeedback            130 non-null    object \n",
            " 19  filerType                   3761 non-null   object \n",
            " 20  Filer type: self            1635 non-null   object \n",
            " 21  Filer type: help            1391 non-null   object \n",
            " 22  Offramp: generic            536 non-null    object \n",
            " 23  Investments                 1810 non-null   object \n",
            " 24  Investments: yes            757 non-null    object \n",
            " 25  Self-employed: no (q)       1223 non-null   object \n",
            " 26  Unused: that sucks          0 non-null      float64\n",
            " 27  Final question: more?       3340 non-null   object \n",
            " 28  Recommendations             3942 non-null   object \n",
            " 29  Final question: disclaimer  4448 non-null   object \n",
            " 30  name                        0 non-null      float64\n",
            " 31  isSenior                    3140 non-null   object \n",
            " 32  bpa                         3033 non-null   object \n",
            " 33  temp_bpa                    3033 non-null   float64\n",
            " 34  cvitpAmount                 1154 non-null   object \n",
            " 35  netfileToo                  206 non-null    object \n",
            " 36  filerEnum                   3515 non-null   float64\n",
            " 37  chatGPT                     1987 non-null   object \n",
            " 38  isInvestor                  789 non-null    object \n",
            " 39  answerTax                   6084 non-null   object \n",
            " 40  returnVisitor               10792 non-null  float64\n",
            " 41  questionNumber              0 non-null      float64\n",
            " 42  questionsTotal              6705 non-null   float64\n",
            " 43  answerTax2                  2599 non-null   object \n",
            " 44  answerTax3                  1144 non-null   object \n",
            " 45  answerTax4                  597 non-null    object \n",
            " 46  answerTax5                  349 non-null    object \n",
            "dtypes: float64(7), object(40)\n",
            "memory usage: 3.9+ MB\n"
          ]
        }
      ],
      "source": [
        "df_gpt.info()\n"
      ]
    },
    {
      "cell_type": "code",
      "execution_count": 5,
      "metadata": {
        "id": "lJ1WVrIa0bYa"
      },
      "outputs": [],
      "source": [
        "df_gpt1  = df_gpt[['questionTax', 'answerTax']]"
      ]
    },
    {
      "cell_type": "code",
      "execution_count": 6,
      "metadata": {
        "colab": {
          "base_uri": "https://localhost:8080/"
        },
        "id": "mStkBc4R0bWV",
        "outputId": "546aea0d-d060-4ccf-abe0-ce3b41523628"
      },
      "outputs": [
        {
          "output_type": "stream",
          "name": "stderr",
          "text": [
            "<ipython-input-6-d22233beb974>:2: SettingWithCopyWarning: \n",
            "A value is trying to be set on a copy of a slice from a DataFrame\n",
            "\n",
            "See the caveats in the documentation: https://pandas.pydata.org/pandas-docs/stable/user_guide/indexing.html#returning-a-view-versus-a-copy\n",
            "  df_gpt2.rename(columns={'questionTax2': 'questionTax'}, inplace=True)\n",
            "<ipython-input-6-d22233beb974>:3: SettingWithCopyWarning: \n",
            "A value is trying to be set on a copy of a slice from a DataFrame\n",
            "\n",
            "See the caveats in the documentation: https://pandas.pydata.org/pandas-docs/stable/user_guide/indexing.html#returning-a-view-versus-a-copy\n",
            "  df_gpt2.rename(columns={'answerTax2': 'answerTax'}, inplace=True)\n"
          ]
        }
      ],
      "source": [
        "df_gpt2 = df_gpt[['questionTax2', 'answerTax2']]\n",
        "df_gpt2.rename(columns={'questionTax2': 'questionTax'}, inplace=True)\n",
        "df_gpt2.rename(columns={'answerTax2': 'answerTax'}, inplace=True)\n",
        "\n",
        "\n"
      ]
    },
    {
      "cell_type": "code",
      "execution_count": 7,
      "metadata": {
        "colab": {
          "base_uri": "https://localhost:8080/"
        },
        "id": "K1A1HeC60bUN",
        "outputId": "f4005d78-ea80-48ee-d55e-d84433eb182a"
      },
      "outputs": [
        {
          "output_type": "stream",
          "name": "stderr",
          "text": [
            "<ipython-input-7-1387c691a7c1>:2: SettingWithCopyWarning: \n",
            "A value is trying to be set on a copy of a slice from a DataFrame\n",
            "\n",
            "See the caveats in the documentation: https://pandas.pydata.org/pandas-docs/stable/user_guide/indexing.html#returning-a-view-versus-a-copy\n",
            "  df_gpt3.rename(columns={'questionTax3': 'questionTax'}, inplace=True)\n",
            "<ipython-input-7-1387c691a7c1>:3: SettingWithCopyWarning: \n",
            "A value is trying to be set on a copy of a slice from a DataFrame\n",
            "\n",
            "See the caveats in the documentation: https://pandas.pydata.org/pandas-docs/stable/user_guide/indexing.html#returning-a-view-versus-a-copy\n",
            "  df_gpt3.rename(columns={'answerTax3': 'answerTax'}, inplace=True)\n"
          ]
        }
      ],
      "source": [
        "df_gpt3 = df_gpt[['questionTax3', 'answerTax3']]\n",
        "df_gpt3.rename(columns={'questionTax3': 'questionTax'}, inplace=True)\n",
        "df_gpt3.rename(columns={'answerTax3': 'answerTax'}, inplace=True)\n",
        "\n"
      ]
    },
    {
      "cell_type": "code",
      "execution_count": 8,
      "metadata": {
        "colab": {
          "base_uri": "https://localhost:8080/"
        },
        "id": "M9a3Oo4n0jVT",
        "outputId": "cc3bb615-06bf-447b-fad2-6453a0b01bfa"
      },
      "outputs": [
        {
          "output_type": "stream",
          "name": "stderr",
          "text": [
            "<ipython-input-8-f571dda0ae50>:3: SettingWithCopyWarning: \n",
            "A value is trying to be set on a copy of a slice from a DataFrame\n",
            "\n",
            "See the caveats in the documentation: https://pandas.pydata.org/pandas-docs/stable/user_guide/indexing.html#returning-a-view-versus-a-copy\n",
            "  df_gpt4.rename(columns={'questionTax4': 'questionTax'}, inplace=True)\n",
            "<ipython-input-8-f571dda0ae50>:4: SettingWithCopyWarning: \n",
            "A value is trying to be set on a copy of a slice from a DataFrame\n",
            "\n",
            "See the caveats in the documentation: https://pandas.pydata.org/pandas-docs/stable/user_guide/indexing.html#returning-a-view-versus-a-copy\n",
            "  df_gpt4.rename(columns={'answerTax4': 'answerTax'}, inplace=True)\n"
          ]
        }
      ],
      "source": [
        "df_gpt4 = df_gpt[['questionTax4', 'answerTax4']]\n",
        "\n",
        "df_gpt4.rename(columns={'questionTax4': 'questionTax'}, inplace=True)\n",
        "df_gpt4.rename(columns={'answerTax4': 'answerTax'}, inplace=True)\n",
        "\n",
        "\n"
      ]
    },
    {
      "cell_type": "code",
      "execution_count": 9,
      "metadata": {
        "colab": {
          "base_uri": "https://localhost:8080/"
        },
        "id": "nAJJErfm0oGz",
        "outputId": "e148e0a0-0be4-477a-d2dd-906c18c309f2"
      },
      "outputs": [
        {
          "output_type": "stream",
          "name": "stderr",
          "text": [
            "<ipython-input-9-6110a1745520>:3: SettingWithCopyWarning: \n",
            "A value is trying to be set on a copy of a slice from a DataFrame\n",
            "\n",
            "See the caveats in the documentation: https://pandas.pydata.org/pandas-docs/stable/user_guide/indexing.html#returning-a-view-versus-a-copy\n",
            "  df_gpt5.rename(columns={'questionTax5': 'questionTax'}, inplace=True)\n",
            "<ipython-input-9-6110a1745520>:4: SettingWithCopyWarning: \n",
            "A value is trying to be set on a copy of a slice from a DataFrame\n",
            "\n",
            "See the caveats in the documentation: https://pandas.pydata.org/pandas-docs/stable/user_guide/indexing.html#returning-a-view-versus-a-copy\n",
            "  df_gpt5.rename(columns={'answerTax5': 'answerTax'}, inplace=True)\n"
          ]
        }
      ],
      "source": [
        "df_gpt5 = df_gpt[['questionTax5', 'answerTax5']]\n",
        "\n",
        "df_gpt5.rename(columns={'questionTax5': 'questionTax'}, inplace=True)\n",
        "df_gpt5.rename(columns={'answerTax5': 'answerTax'}, inplace=True)\n",
        "\n",
        "\n"
      ]
    },
    {
      "cell_type": "code",
      "execution_count": 10,
      "metadata": {
        "id": "eF4w8rUc0swv"
      },
      "outputs": [],
      "source": [
        "# Concatenate the DataFrames vertically\n",
        "frames = [df_gpt1, df_gpt2, df_gpt3, df_gpt4, df_gpt5]\n",
        "df_final = pd.concat(frames)\n"
      ]
    },
    {
      "cell_type": "code",
      "execution_count": 10,
      "metadata": {
        "id": "KIlFTnB2HQ8y"
      },
      "outputs": [],
      "source": []
    },
    {
      "cell_type": "code",
      "execution_count": 11,
      "metadata": {
        "colab": {
          "base_uri": "https://localhost:8080/",
          "height": 206
        },
        "id": "qB4tsAuo1ZOf",
        "outputId": "3fac6b03-5bc3-4cc7-a2c9-b1d1bcdba150"
      },
      "outputs": [
        {
          "output_type": "execute_result",
          "data": {
            "text/plain": [
              "                       questionTax  \\\n",
              "0                              NaN   \n",
              "1                              NaN   \n",
              "2                   I died in 2021   \n",
              "3  How to fine as sole proprietor    \n",
              "4                              NaN   \n",
              "\n",
              "                                           answerTax  \n",
              "0                                                NaN  \n",
              "1                                                NaN  \n",
              "2  I'm sorry to hear that. In this case, your fil...  \n",
              "3  As a sole proprietor in Canada, you are requir...  \n",
              "4                                                NaN  "
            ],
            "text/html": [
              "\n",
              "  <div id=\"df-fcf600e3-1985-4541-8f0a-67ee75355144\" class=\"colab-df-container\">\n",
              "    <div>\n",
              "<style scoped>\n",
              "    .dataframe tbody tr th:only-of-type {\n",
              "        vertical-align: middle;\n",
              "    }\n",
              "\n",
              "    .dataframe tbody tr th {\n",
              "        vertical-align: top;\n",
              "    }\n",
              "\n",
              "    .dataframe thead th {\n",
              "        text-align: right;\n",
              "    }\n",
              "</style>\n",
              "<table border=\"1\" class=\"dataframe\">\n",
              "  <thead>\n",
              "    <tr style=\"text-align: right;\">\n",
              "      <th></th>\n",
              "      <th>questionTax</th>\n",
              "      <th>answerTax</th>\n",
              "    </tr>\n",
              "  </thead>\n",
              "  <tbody>\n",
              "    <tr>\n",
              "      <th>0</th>\n",
              "      <td>NaN</td>\n",
              "      <td>NaN</td>\n",
              "    </tr>\n",
              "    <tr>\n",
              "      <th>1</th>\n",
              "      <td>NaN</td>\n",
              "      <td>NaN</td>\n",
              "    </tr>\n",
              "    <tr>\n",
              "      <th>2</th>\n",
              "      <td>I died in 2021</td>\n",
              "      <td>I'm sorry to hear that. In this case, your fil...</td>\n",
              "    </tr>\n",
              "    <tr>\n",
              "      <th>3</th>\n",
              "      <td>How to fine as sole proprietor</td>\n",
              "      <td>As a sole proprietor in Canada, you are requir...</td>\n",
              "    </tr>\n",
              "    <tr>\n",
              "      <th>4</th>\n",
              "      <td>NaN</td>\n",
              "      <td>NaN</td>\n",
              "    </tr>\n",
              "  </tbody>\n",
              "</table>\n",
              "</div>\n",
              "    <div class=\"colab-df-buttons\">\n",
              "\n",
              "  <div class=\"colab-df-container\">\n",
              "    <button class=\"colab-df-convert\" onclick=\"convertToInteractive('df-fcf600e3-1985-4541-8f0a-67ee75355144')\"\n",
              "            title=\"Convert this dataframe to an interactive table.\"\n",
              "            style=\"display:none;\">\n",
              "\n",
              "  <svg xmlns=\"http://www.w3.org/2000/svg\" height=\"24px\" viewBox=\"0 -960 960 960\">\n",
              "    <path d=\"M120-120v-720h720v720H120Zm60-500h600v-160H180v160Zm220 220h160v-160H400v160Zm0 220h160v-160H400v160ZM180-400h160v-160H180v160Zm440 0h160v-160H620v160ZM180-180h160v-160H180v160Zm440 0h160v-160H620v160Z\"/>\n",
              "  </svg>\n",
              "    </button>\n",
              "\n",
              "  <style>\n",
              "    .colab-df-container {\n",
              "      display:flex;\n",
              "      gap: 12px;\n",
              "    }\n",
              "\n",
              "    .colab-df-convert {\n",
              "      background-color: #E8F0FE;\n",
              "      border: none;\n",
              "      border-radius: 50%;\n",
              "      cursor: pointer;\n",
              "      display: none;\n",
              "      fill: #1967D2;\n",
              "      height: 32px;\n",
              "      padding: 0 0 0 0;\n",
              "      width: 32px;\n",
              "    }\n",
              "\n",
              "    .colab-df-convert:hover {\n",
              "      background-color: #E2EBFA;\n",
              "      box-shadow: 0px 1px 2px rgba(60, 64, 67, 0.3), 0px 1px 3px 1px rgba(60, 64, 67, 0.15);\n",
              "      fill: #174EA6;\n",
              "    }\n",
              "\n",
              "    .colab-df-buttons div {\n",
              "      margin-bottom: 4px;\n",
              "    }\n",
              "\n",
              "    [theme=dark] .colab-df-convert {\n",
              "      background-color: #3B4455;\n",
              "      fill: #D2E3FC;\n",
              "    }\n",
              "\n",
              "    [theme=dark] .colab-df-convert:hover {\n",
              "      background-color: #434B5C;\n",
              "      box-shadow: 0px 1px 3px 1px rgba(0, 0, 0, 0.15);\n",
              "      filter: drop-shadow(0px 1px 2px rgba(0, 0, 0, 0.3));\n",
              "      fill: #FFFFFF;\n",
              "    }\n",
              "  </style>\n",
              "\n",
              "    <script>\n",
              "      const buttonEl =\n",
              "        document.querySelector('#df-fcf600e3-1985-4541-8f0a-67ee75355144 button.colab-df-convert');\n",
              "      buttonEl.style.display =\n",
              "        google.colab.kernel.accessAllowed ? 'block' : 'none';\n",
              "\n",
              "      async function convertToInteractive(key) {\n",
              "        const element = document.querySelector('#df-fcf600e3-1985-4541-8f0a-67ee75355144');\n",
              "        const dataTable =\n",
              "          await google.colab.kernel.invokeFunction('convertToInteractive',\n",
              "                                                    [key], {});\n",
              "        if (!dataTable) return;\n",
              "\n",
              "        const docLinkHtml = 'Like what you see? Visit the ' +\n",
              "          '<a target=\"_blank\" href=https://colab.research.google.com/notebooks/data_table.ipynb>data table notebook</a>'\n",
              "          + ' to learn more about interactive tables.';\n",
              "        element.innerHTML = '';\n",
              "        dataTable['output_type'] = 'display_data';\n",
              "        await google.colab.output.renderOutput(dataTable, element);\n",
              "        const docLink = document.createElement('div');\n",
              "        docLink.innerHTML = docLinkHtml;\n",
              "        element.appendChild(docLink);\n",
              "      }\n",
              "    </script>\n",
              "  </div>\n",
              "\n",
              "\n",
              "<div id=\"df-2cae533c-fea2-46ee-a61b-06f94436854c\">\n",
              "  <button class=\"colab-df-quickchart\" onclick=\"quickchart('df-2cae533c-fea2-46ee-a61b-06f94436854c')\"\n",
              "            title=\"Suggest charts\"\n",
              "            style=\"display:none;\">\n",
              "\n",
              "<svg xmlns=\"http://www.w3.org/2000/svg\" height=\"24px\"viewBox=\"0 0 24 24\"\n",
              "     width=\"24px\">\n",
              "    <g>\n",
              "        <path d=\"M19 3H5c-1.1 0-2 .9-2 2v14c0 1.1.9 2 2 2h14c1.1 0 2-.9 2-2V5c0-1.1-.9-2-2-2zM9 17H7v-7h2v7zm4 0h-2V7h2v10zm4 0h-2v-4h2v4z\"/>\n",
              "    </g>\n",
              "</svg>\n",
              "  </button>\n",
              "\n",
              "<style>\n",
              "  .colab-df-quickchart {\n",
              "      --bg-color: #E8F0FE;\n",
              "      --fill-color: #1967D2;\n",
              "      --hover-bg-color: #E2EBFA;\n",
              "      --hover-fill-color: #174EA6;\n",
              "      --disabled-fill-color: #AAA;\n",
              "      --disabled-bg-color: #DDD;\n",
              "  }\n",
              "\n",
              "  [theme=dark] .colab-df-quickchart {\n",
              "      --bg-color: #3B4455;\n",
              "      --fill-color: #D2E3FC;\n",
              "      --hover-bg-color: #434B5C;\n",
              "      --hover-fill-color: #FFFFFF;\n",
              "      --disabled-bg-color: #3B4455;\n",
              "      --disabled-fill-color: #666;\n",
              "  }\n",
              "\n",
              "  .colab-df-quickchart {\n",
              "    background-color: var(--bg-color);\n",
              "    border: none;\n",
              "    border-radius: 50%;\n",
              "    cursor: pointer;\n",
              "    display: none;\n",
              "    fill: var(--fill-color);\n",
              "    height: 32px;\n",
              "    padding: 0;\n",
              "    width: 32px;\n",
              "  }\n",
              "\n",
              "  .colab-df-quickchart:hover {\n",
              "    background-color: var(--hover-bg-color);\n",
              "    box-shadow: 0 1px 2px rgba(60, 64, 67, 0.3), 0 1px 3px 1px rgba(60, 64, 67, 0.15);\n",
              "    fill: var(--button-hover-fill-color);\n",
              "  }\n",
              "\n",
              "  .colab-df-quickchart-complete:disabled,\n",
              "  .colab-df-quickchart-complete:disabled:hover {\n",
              "    background-color: var(--disabled-bg-color);\n",
              "    fill: var(--disabled-fill-color);\n",
              "    box-shadow: none;\n",
              "  }\n",
              "\n",
              "  .colab-df-spinner {\n",
              "    border: 2px solid var(--fill-color);\n",
              "    border-color: transparent;\n",
              "    border-bottom-color: var(--fill-color);\n",
              "    animation:\n",
              "      spin 1s steps(1) infinite;\n",
              "  }\n",
              "\n",
              "  @keyframes spin {\n",
              "    0% {\n",
              "      border-color: transparent;\n",
              "      border-bottom-color: var(--fill-color);\n",
              "      border-left-color: var(--fill-color);\n",
              "    }\n",
              "    20% {\n",
              "      border-color: transparent;\n",
              "      border-left-color: var(--fill-color);\n",
              "      border-top-color: var(--fill-color);\n",
              "    }\n",
              "    30% {\n",
              "      border-color: transparent;\n",
              "      border-left-color: var(--fill-color);\n",
              "      border-top-color: var(--fill-color);\n",
              "      border-right-color: var(--fill-color);\n",
              "    }\n",
              "    40% {\n",
              "      border-color: transparent;\n",
              "      border-right-color: var(--fill-color);\n",
              "      border-top-color: var(--fill-color);\n",
              "    }\n",
              "    60% {\n",
              "      border-color: transparent;\n",
              "      border-right-color: var(--fill-color);\n",
              "    }\n",
              "    80% {\n",
              "      border-color: transparent;\n",
              "      border-right-color: var(--fill-color);\n",
              "      border-bottom-color: var(--fill-color);\n",
              "    }\n",
              "    90% {\n",
              "      border-color: transparent;\n",
              "      border-bottom-color: var(--fill-color);\n",
              "    }\n",
              "  }\n",
              "</style>\n",
              "\n",
              "  <script>\n",
              "    async function quickchart(key) {\n",
              "      const quickchartButtonEl =\n",
              "        document.querySelector('#' + key + ' button');\n",
              "      quickchartButtonEl.disabled = true;  // To prevent multiple clicks.\n",
              "      quickchartButtonEl.classList.add('colab-df-spinner');\n",
              "      try {\n",
              "        const charts = await google.colab.kernel.invokeFunction(\n",
              "            'suggestCharts', [key], {});\n",
              "      } catch (error) {\n",
              "        console.error('Error during call to suggestCharts:', error);\n",
              "      }\n",
              "      quickchartButtonEl.classList.remove('colab-df-spinner');\n",
              "      quickchartButtonEl.classList.add('colab-df-quickchart-complete');\n",
              "    }\n",
              "    (() => {\n",
              "      let quickchartButtonEl =\n",
              "        document.querySelector('#df-2cae533c-fea2-46ee-a61b-06f94436854c button');\n",
              "      quickchartButtonEl.style.display =\n",
              "        google.colab.kernel.accessAllowed ? 'block' : 'none';\n",
              "    })();\n",
              "  </script>\n",
              "</div>\n",
              "    </div>\n",
              "  </div>\n"
            ]
          },
          "metadata": {},
          "execution_count": 11
        }
      ],
      "source": [
        "df_final.head()"
      ]
    },
    {
      "cell_type": "code",
      "execution_count": 12,
      "metadata": {
        "colab": {
          "base_uri": "https://localhost:8080/"
        },
        "id": "kX46x_8f2hPv",
        "outputId": "e86acadb-b134-4e77-f435-81355e23f749"
      },
      "outputs": [
        {
          "output_type": "execute_result",
          "data": {
            "text/plain": [
              "(54335, 2)"
            ]
          },
          "metadata": {},
          "execution_count": 12
        }
      ],
      "source": [
        "df_final.shape"
      ]
    },
    {
      "cell_type": "code",
      "execution_count": 13,
      "metadata": {
        "colab": {
          "base_uri": "https://localhost:8080/"
        },
        "id": "KjA2Qmmt2p93",
        "outputId": "4641fb6d-a9f5-4d5d-fefd-fe826ee0df75"
      },
      "outputs": [
        {
          "output_type": "stream",
          "name": "stdout",
          "text": [
            "NaN values in 'questionTax': 43540\n",
            "NaN values in 'answerTax': 43562\n"
          ]
        }
      ],
      "source": [
        "#removing Nan Values\n",
        "\n",
        "nan_values_question_tax = df_final['questionTax'].isnull().sum()\n",
        "nan_values_answer_tax = df_final['answerTax'].isnull().sum()\n",
        "\n",
        "print(f\"NaN values in 'questionTax': {nan_values_question_tax}\")\n",
        "\n",
        "print(f\"NaN values in 'answerTax': {nan_values_answer_tax}\")"
      ]
    },
    {
      "cell_type": "code",
      "execution_count": 14,
      "metadata": {
        "colab": {
          "base_uri": "https://localhost:8080/"
        },
        "id": "v6XW9shs3Hrv",
        "outputId": "4ee1b9b3-b2ed-4ae9-fb72-cf8874deaa88"
      },
      "outputs": [
        {
          "output_type": "stream",
          "name": "stdout",
          "text": [
            "                                             questionTax  \\\n",
            "2                                         I died in 2021   \n",
            "3                        How to fine as sole proprietor    \n",
            "6              who is eligible for care giver benefits\\n   \n",
            "7                    Where to claim self employment ink?   \n",
            "9                             Can I write off hookers?\\n   \n",
            "...                                                  ...   \n",
            "10823  I bought a new house that I moved into in Dece...   \n",
            "10824  WEALTHSIMPLE tax indicates that I have 250$ in...   \n",
            "10840                             Credits in Nova Scotia   \n",
            "10846  can you file your property taxes on your prima...   \n",
            "10848  Do i enter my Exchange Traded Securities Commi...   \n",
            "\n",
            "                                               answerTax  \n",
            "2      I'm sorry to hear that. In this case, your fil...  \n",
            "3      As a sole proprietor in Canada, you are requir...  \n",
            "6      If you live in Canada and are a caregiver for ...  \n",
            "7      As a self-employed individual in Canada, you c...  \n",
            "9      No, you cannot write off the expenses for ille...  \n",
            "...                                                  ...  \n",
            "10823  When you change the use of a property from per...  \n",
            "10824  The Canada Training Credit is a new refundable...  \n",
            "10840  As an AI language model, I am not able to dete...  \n",
            "10846  In Canada, property taxes are typically assess...  \n",
            "10848  Yes, if you paid commissions on your exchange-...  \n",
            "\n",
            "[10773 rows x 2 columns]\n"
          ]
        }
      ],
      "source": [
        "# Remove a specific column with NaN values\n",
        "#Even for blank question, there is a default answer to type question\n",
        "column_name_with_nans = 'answerTax'  # Replace 'Your_Column_Name' with the column containing NaN values\n",
        "\n",
        "df_final = df_final.dropna(subset=[column_name_with_nans])\n",
        "\n",
        "# Check the resulting DataFrame after removing the column\n",
        "print(df_final)"
      ]
    },
    {
      "cell_type": "markdown",
      "source": [
        "PRE PROCESSING"
      ],
      "metadata": {
        "id": "pYzTnH34LWEg"
      }
    },
    {
      "cell_type": "code",
      "execution_count": 15,
      "metadata": {
        "colab": {
          "base_uri": "https://localhost:8080/"
        },
        "id": "GqHELgm5XCMo",
        "outputId": "cfcd1d20-8aac-40c0-84d4-85fa0652eaff"
      },
      "outputs": [
        {
          "output_type": "stream",
          "name": "stderr",
          "text": [
            "[nltk_data] Downloading package stopwords to /root/nltk_data...\n",
            "[nltk_data]   Package stopwords is already up-to-date!\n",
            "[nltk_data] Downloading package wordnet to /root/nltk_data...\n",
            "[nltk_data]   Package wordnet is already up-to-date!\n"
          ]
        }
      ],
      "source": [
        "from gensim.models import LdaModel\n",
        "from gensim.models import CoherenceModel\n",
        "from gensim.corpora import Dictionary\n",
        "from gensim.utils import simple_preprocess\n",
        "from gensim.parsing.preprocessing import STOPWORDS, strip_tags, strip_punctuation, strip_multiple_whitespaces\n",
        "from nltk.stem import WordNetLemmatizer\n",
        "from gensim.parsing.porter import PorterStemmer\n",
        "from nltk.corpus import stopwords\n",
        "from gensim.models import Word2Vec\n",
        "import string\n",
        "import nltk\n",
        "import matplotlib.pyplot as plt\n",
        "\n",
        "\n",
        "# Download NLTK resources\n",
        "nltk.download('stopwords')\n",
        "nltk.download('wordnet')\n",
        "\n",
        "# Example preprocess function\n",
        "def preprocess_text(text):\n",
        "    # Convert to lowercase and remove numeric and special characters\n",
        "    custom_filters = [lambda x: x.lower(), strip_tags, strip_punctuation, strip_multiple_whitespaces]\n",
        "    tokens = [token for token in simple_preprocess(text) if token not in STOPWORDS and len(token) > 2]\n",
        "\n",
        "    # Filter out stopwords, short tokens, and non-vocabulary words\n",
        "    tokens = [WordNetLemmatizer().lemmatize(token, pos='v') for token in tokens if token not in STOPWORDS and len(token) > 2]\n",
        "\n",
        "    return tokens\n",
        "\n",
        "# Apply enhanced preprocessing to your DataFrame's 'questions' column\n",
        "df_final['clean_questions'] = df_final['questionTax'].apply(preprocess_text)\n",
        "\n"
      ]
    },
    {
      "cell_type": "code",
      "source": [
        "#Basic LDA MODEL\n",
        "\n",
        "# Train Word2Vec model\n",
        "word2vec_model = Word2Vec(sentences=df_final['clean_questions'], vector_size=300, window=5, min_count=1, workers=4)\n",
        "\n",
        "# Create dictionary and corpus\n",
        "dictionary = Dictionary(df_final['clean_questions'])\n",
        "corpus = [dictionary.doc2bow(doc) for doc in df_final['clean_questions']]\n",
        "\n",
        "# Fine-tune LDA hyperparameters\n",
        "coherence_scores_lda = []\n",
        "for num_topics in range(2, 21):\n",
        "    lda_model = LdaModel(\n",
        "        corpus,\n",
        "        num_topics=num_topics,\n",
        "        id2word=dictionary,\n",
        "        passes=20,\n",
        "        alpha='auto',\n",
        "        eta='auto',\n",
        "        iterations=200,\n",
        "        chunksize=100,\n",
        "        minimum_probability=0.001\n",
        "    )\n",
        "    coherence_model = CoherenceModel(\n",
        "        model=lda_model,\n",
        "        texts=df_final['clean_questions'],\n",
        "        dictionary=dictionary,\n",
        "        coherence='c_v'\n",
        "    )\n",
        "    coherence_scores_lda.append(coherence_model.get_coherence())\n",
        "\n",
        "# Plot coherence scores for different numbers of topics\n",
        "plt.plot(range(2, 21), coherence_scores_lda)\n",
        "plt.xlabel(\"Number of Topics\")\n",
        "plt.ylabel(\"Coherence Score (c_v)\")\n",
        "plt.title(\"Basic LDA Model Coherence Tuning\")\n",
        "plt.show()"
      ],
      "metadata": {
        "colab": {
          "base_uri": "https://localhost:8080/",
          "height": 524
        },
        "id": "QeRpkIESLGDb",
        "outputId": "9bce5fc2-bb5e-4266-de5f-e83d5913218b"
      },
      "execution_count": 16,
      "outputs": [
        {
          "output_type": "stream",
          "name": "stderr",
          "text": [
            "WARNING:gensim.models.ldamodel:updated prior is not positive\n",
            "WARNING:gensim.models.ldamodel:updated prior is not positive\n",
            "WARNING:gensim.models.ldamodel:updated prior is not positive\n"
          ]
        },
        {
          "output_type": "display_data",
          "data": {
            "text/plain": [
              "<Figure size 640x480 with 1 Axes>"
            ],
            "image/png": "[encoded data removed]"
          },
          "metadata": {}
        }
      ]
    },
    {
      "cell_type": "code",
      "execution_count": 17,
      "metadata": {
        "id": "SS8aWxM5RYrF"
      },
      "outputs": [],
      "source": [
        "#Determining the optimal number of topics for an LDA (Latent Dirichlet Allocation) model is a crucial step in topic modeling."
      ]
    },
    {
      "cell_type": "code",
      "execution_count": 18,
      "metadata": {
        "colab": {
          "base_uri": "https://localhost:8080/"
        },
        "id": "uSup7zWtNwDM",
        "outputId": "2c771ca4-17a1-46e1-c3b2-d7609eca1291"
      },
      "outputs": [
        {
          "output_type": "stream",
          "name": "stdout",
          "text": [
            "Optimal number of topics: 17\n"
          ]
        }
      ],
      "source": [
        "#LDA Model\n",
        "#no_of_topics = 16, has highest amout of coherence(0.44)\n",
        "\n",
        "# Find the optimal number of topics\n",
        "optimal_num_topics_lda = range(2, 21)[coherence_scores_lda.index(max(coherence_scores_lda))]\n",
        "print(f\"Optimal number of topics: {optimal_num_topics_lda}\")\n",
        "\n",
        "\n"
      ]
    },
    {
      "cell_type": "code",
      "execution_count": 19,
      "metadata": {
        "colab": {
          "base_uri": "https://localhost:8080/"
        },
        "id": "WMQdIBponiIU",
        "outputId": "d9a81ace-550b-4cd0-b848-356e457efaec"
      },
      "outputs": [
        {
          "output_type": "stream",
          "name": "stdout",
          "text": [
            "Highest coherence score: 0.4224860984242117\n"
          ]
        }
      ],
      "source": [
        "print(f\"Highest coherence score: {max(coherence_scores_lda)}\")"
      ]
    },
    {
      "cell_type": "markdown",
      "metadata": {
        "id": "5yrSAfj_ZTPq"
      },
      "source": [
        "On the first basic Attempt of LDA modelling we recieved a Coherent score around 0.43. Now trying different models such as NFM and LSA"
      ]
    },
    {
      "cell_type": "markdown",
      "metadata": {
        "id": "2iCMf73wZy4u"
      },
      "source": [
        "LSA topic Model:"
      ]
    },
    {
      "cell_type": "code",
      "execution_count": 20,
      "metadata": {
        "colab": {
          "base_uri": "https://localhost:8080/",
          "height": 507
        },
        "id": "lJcqzmCsZp0z",
        "outputId": "5e234d6c-19ad-4691-f461-e5bcd60239d4"
      },
      "outputs": [
        {
          "output_type": "display_data",
          "data": {
            "text/plain": [
              "<Figure size 640x480 with 1 Axes>"
            ],
            "image/png": "[encoded data removed]"
          },
          "metadata": {}
        },
        {
          "output_type": "stream",
          "name": "stdout",
          "text": [
            "Number of topics with highest coherence (LSA): 2\n",
            "Highest coherence score (LSA): 0.05679307505488396\n"
          ]
        }
      ],
      "source": [
        "from sklearn.decomposition import TruncatedSVD\n",
        "from sklearn.feature_extraction.text import TfidfVectorizer\n",
        "from gensim.models import CoherenceModel\n",
        "import matplotlib.pyplot as plt\n",
        "import numpy as np\n",
        "from gensim.parsing.preprocessing import STOPWORDS, strip_tags, strip_punctuation, strip_multiple_whitespaces\n",
        "from nltk.stem import WordNetLemmatizer\n",
        "from gensim.utils import simple_preprocess\n",
        "from gensim.corpora import dictionary\n",
        "from nltk.stem import WordNetLemmatizer\n",
        "from gensim.corpora import Dictionary\n",
        "from gensim.matutils import corpus2dense\n",
        "from sklearn.metrics.pairwise import cosine_similarity\n",
        "\n",
        "\n",
        "\n",
        "\n",
        "# Convert the documents to a document-term matrix\n",
        "vectorizer = TfidfVectorizer(stop_words='english', max_df=0.85, min_df=2, token_pattern=r'\\b\\w+\\b')\n",
        "dtm = vectorizer.fit_transform(df_final['clean_questions'].apply(lambda x: ' '.join(x)))\n",
        "\n",
        "# Find the optimal number of topics using LSA\n",
        "coherence_scores_lsa = []\n",
        "for num_topics in range(2, 21):\n",
        "    lsa_model = TruncatedSVD(n_components=num_topics, random_state=42)\n",
        "    lsa_topic_matrix = lsa_model.fit_transform(dtm)\n",
        "\n",
        "    # Create a dictionary and corpus for coherence calculation\n",
        "    dictionary_lsa = Dictionary(df_final['clean_questions'])\n",
        "    corpus_lsa = [dictionary_lsa.doc2bow(doc) for doc in df_final['clean_questions']]\n",
        "\n",
        "    # Convert LSA topic matrix to a format compatible with Gensim CoherenceModel\n",
        "    topics = [\n",
        "        [(f\"word_{i}\", weight) for i, weight in enumerate(topic)]\n",
        "        for topic in lsa_topic_matrix\n",
        "    ]\n",
        "\n",
        "    # Calculate pairwise cosine similarity between topics\n",
        "    topic_matrix_dense = corpus2dense(corpus_lsa, num_terms=len(dictionary_lsa))\n",
        "    similarity_matrix = cosine_similarity(topic_matrix_dense.T)\n",
        "\n",
        "    # Calculate coherence using pairwise cosine similarity\n",
        "    coherence_values = []\n",
        "    for i in range(len(similarity_matrix)):\n",
        "        for j in range(i + 1, len(similarity_matrix)):\n",
        "            coherence_values.append(similarity_matrix[i, j])\n",
        "\n",
        "    coherence_score = np.mean(coherence_values)\n",
        "\n",
        "    coherence_scores_lsa.append(coherence_score)\n",
        "\n",
        "# Plot coherence scores for different numbers of topics\n",
        "plt.plot(range(2, 21), coherence_scores_lsa)\n",
        "plt.xlabel(\"Number of Topics\")\n",
        "plt.ylabel(\"Coherence Score\")\n",
        "plt.title(\"LSA Model Coherence Tuning\")\n",
        "plt.show()\n",
        "\n",
        "# Find the optimal number of topics for LSA\n",
        "optimal_num_topics_lsa = range(2, 21)[np.argmax(coherence_scores_lsa)]\n",
        "print(f\"Number of topics with highest coherence (LSA): {optimal_num_topics_lsa}\")\n",
        "print(f\"Highest coherence score (LSA): {max(coherence_scores_lsa)}\")\n",
        "\n"
      ]
    },
    {
      "cell_type": "markdown",
      "metadata": {
        "id": "AnjN-DMnZ5nv"
      },
      "source": [
        "NMF Topic model:"
      ]
    },
    {
      "cell_type": "code",
      "execution_count": 21,
      "metadata": {
        "colab": {
          "base_uri": "https://localhost:8080/",
          "height": 507
        },
        "id": "rD7GHIx3ZpsF",
        "outputId": "da7097f7-6017-4804-d5b1-76d6d04ed4ee"
      },
      "outputs": [
        {
          "output_type": "display_data",
          "data": {
            "text/plain": [
              "<Figure size 640x480 with 1 Axes>"
            ],
            "image/png": "[encoded data removed]"
          },
          "metadata": {}
        },
        {
          "output_type": "stream",
          "name": "stdout",
          "text": [
            "Number of topics with highest coherence (NMF): 2\n",
            "Highest coherence score (NMF): 0.17517727645914757\n"
          ]
        }
      ],
      "source": [
        "from sklearn.decomposition import NMF\n",
        "from sklearn.feature_extraction.text import TfidfVectorizer\n",
        "import matplotlib.pyplot as plt\n",
        "import numpy as np\n",
        "from gensim.parsing.preprocessing import STOPWORDS, strip_tags, strip_punctuation, strip_multiple_whitespaces\n",
        "from nltk.stem import WordNetLemmatizer\n",
        "from gensim.utils import simple_preprocess\n",
        "from gensim.corpora import Dictionary\n",
        "from sklearn.metrics.pairwise import cosine_similarity\n",
        "\n",
        "\n",
        "# Convert the documents to a document-term matrix\n",
        "vectorizer = TfidfVectorizer(stop_words='english', max_df=0.85, min_df=2, token_pattern=r'\\b\\w+\\b')\n",
        "dtm = vectorizer.fit_transform(df_final['clean_questions'].apply(lambda x: ' '.join(x)))\n",
        "\n",
        "# Find the optimal number of topics using NMF\n",
        "coherence_scores_nmf = []\n",
        "for num_topics in range(2, 21):\n",
        "    nmf_model = NMF(n_components=num_topics, random_state=42)\n",
        "    nmf_topic_matrix = nmf_model.fit_transform(dtm)\n",
        "\n",
        "    # Calculate pairwise cosine similarity between topics\n",
        "    similarity_matrix = cosine_similarity(nmf_topic_matrix.T)\n",
        "\n",
        "    # Calculate coherence using pairwise cosine similarity\n",
        "    coherence_values = []\n",
        "    for i in range(len(similarity_matrix)):\n",
        "        for j in range(i + 1, len(similarity_matrix)):\n",
        "            coherence_values.append(similarity_matrix[i, j])\n",
        "\n",
        "    coherence_score = np.mean(coherence_values)\n",
        "\n",
        "    coherence_scores_nmf.append(coherence_score)\n",
        "\n",
        "# Plot coherence scores for different numbers of topics\n",
        "plt.plot(range(2, 21), coherence_scores_nmf)\n",
        "plt.xlabel(\"Number of Topics\")\n",
        "plt.ylabel(\"Coherence Score\")\n",
        "plt.title(\"NMF Model Coherence Tuning\")\n",
        "plt.show()\n",
        "\n",
        "# Find the optimal number of topics for NMF\n",
        "optimal_num_topics_nmf = range(2, 21)[np.argmax(coherence_scores_nmf)]\n",
        "print(f\"Number of topics with highest coherence (NMF): {optimal_num_topics_nmf}\")\n",
        "print(f\"Highest coherence score (NMF): {max(coherence_scores_nmf)}\")\n"
      ]
    },
    {
      "cell_type": "code",
      "source": [
        "from gensim.models import LdaModel\n",
        "from gensim.models import CoherenceModel\n",
        "from gensim.corpora import Dictionary\n",
        "from gensim.utils import simple_preprocess\n",
        "from gensim.parsing.preprocessing import STOPWORDS, strip_tags, strip_punctuation, strip_multiple_whitespaces\n",
        "from nltk.stem import WordNetLemmatizer\n",
        "from gensim.parsing.porter import PorterStemmer\n",
        "from nltk.corpus import stopwords\n",
        "from gensim.models import Word2Vec, Phrases\n",
        "import string\n",
        "import nltk\n",
        "import matplotlib.pyplot as plt\n",
        "\n",
        "# Download NLTK resources\n",
        "nltk.download('stopwords')\n",
        "nltk.download('wordnet')\n",
        "\n",
        "\n",
        "# Create a dictionary for unigrams\n",
        "dictionary_unigrams = Dictionary(df_final['clean_questions'])\n",
        "\n",
        "# Use only unigrams dictionary and corpus\n",
        "df_final['clean_questions_unigrams'] = df_final['clean_questions']\n",
        "corpus_unigrams = [dictionary_unigrams.doc2bow(doc) for doc in df_final['clean_questions_unigrams']]\n",
        "\n",
        "# Train Word2Vec model\n",
        "word2vec_model = Word2Vec(sentences=df_final['clean_questions_unigrams'], vector_size=300, window=5, min_count=1, workers=4)\n",
        "\n",
        "# Fine-tune LDA hyperparameters\n",
        "coherence_scores_lda_1 = []\n",
        "for num_topics in range(2, 21):\n",
        "    lda_model = LdaModel(\n",
        "        corpus_unigrams,\n",
        "        num_topics=num_topics,\n",
        "        id2word=dictionary_unigrams,\n",
        "        passes=20,\n",
        "        alpha=0.01,\n",
        "        eta=0.01,\n",
        "        iterations=100,\n",
        "        chunksize=200,\n",
        "        minimum_probability=0.05\n",
        "    )\n",
        "    coherence_model = CoherenceModel(\n",
        "        model=lda_model,\n",
        "        texts=df_final['clean_questions_unigrams'],\n",
        "        dictionary=dictionary_unigrams,\n",
        "        coherence='c_v'\n",
        "    )\n",
        "    coherence_scores_lda_1.append(coherence_model.get_coherence())\n",
        "\n",
        "# Plot coherence scores for different numbers of topics\n",
        "plt.plot(range(2, 21), coherence_scores_lda_1)\n",
        "plt.xlabel(\"Number of Topics\")\n",
        "plt.ylabel(\"Coherence Score (c_v)\")\n",
        "plt.title(\"LDA Model Coherence Tuning with Unigrams\")\n",
        "plt.show()"
      ],
      "metadata": {
        "colab": {
          "base_uri": "https://localhost:8080/",
          "height": 541
        },
        "id": "La9OAD7jA9CL",
        "outputId": "3d4f911b-9cb8-4c90-c1b0-723e4092414d"
      },
      "execution_count": 22,
      "outputs": [
        {
          "output_type": "stream",
          "name": "stderr",
          "text": [
            "[nltk_data] Downloading package stopwords to /root/nltk_data...\n",
            "[nltk_data]   Package stopwords is already up-to-date!\n",
            "[nltk_data] Downloading package wordnet to /root/nltk_data...\n",
            "[nltk_data]   Package wordnet is already up-to-date!\n"
          ]
        },
        {
          "output_type": "display_data",
          "data": {
            "text/plain": [
              "<Figure size 640x480 with 1 Axes>"
            ],
            "image/png": "[encoded data removed]"
          },
          "metadata": {}
        }
      ]
    },
    {
      "cell_type": "code",
      "source": [
        "#LDA Model with unigrams\n",
        "\n",
        "# Find the optimal number of topics\n",
        "optimal_num_topics_lda_1 = range(2, 31)[coherence_scores_lda_1.index(max(coherence_scores_lda_1))]\n",
        "print(f\"Optimal number of topics: {optimal_num_topics_lda_1}\")\n",
        "\n"
      ],
      "metadata": {
        "colab": {
          "base_uri": "https://localhost:8080/"
        },
        "id": "G09Pi8gGBeDi",
        "outputId": "af96cda3-a5a2-4e9b-dade-aadff29bfe48"
      },
      "execution_count": 23,
      "outputs": [
        {
          "output_type": "stream",
          "name": "stdout",
          "text": [
            "Optimal number of topics: 20\n"
          ]
        }
      ]
    },
    {
      "cell_type": "markdown",
      "source": [
        "USING BIGRAMS AND TRIGRAMS"
      ],
      "metadata": {
        "id": "BMC2kZWvLwaZ"
      }
    },
    {
      "cell_type": "code",
      "execution_count": 24,
      "metadata": {
        "colab": {
          "base_uri": "https://localhost:8080/",
          "height": 541
        },
        "id": "Dzx3aLiHKEh2",
        "outputId": "5fdd82d5-8c59-4fc3-cffa-8768637f8561"
      },
      "outputs": [
        {
          "output_type": "stream",
          "name": "stderr",
          "text": [
            "[nltk_data] Downloading package stopwords to /root/nltk_data...\n",
            "[nltk_data]   Package stopwords is already up-to-date!\n",
            "[nltk_data] Downloading package wordnet to /root/nltk_data...\n",
            "[nltk_data]   Package wordnet is already up-to-date!\n"
          ]
        },
        {
          "output_type": "display_data",
          "data": {
            "text/plain": [
              "<Figure size 640x480 with 1 Axes>"
            ],
            "image/png": "[encoded data removed]"
          },
          "metadata": {}
        }
      ],
      "source": [
        "from gensim.models import LdaModel\n",
        "from gensim.models import CoherenceModel\n",
        "from gensim.corpora import Dictionary\n",
        "from gensim.utils import simple_preprocess\n",
        "from gensim.parsing.preprocessing import STOPWORDS, strip_tags, strip_punctuation, strip_multiple_whitespaces\n",
        "from nltk.stem import WordNetLemmatizer\n",
        "from gensim.parsing.porter import PorterStemmer\n",
        "from nltk.corpus import stopwords\n",
        "from gensim.models import Word2Vec, Phrases\n",
        "import string\n",
        "import nltk\n",
        "import matplotlib.pyplot as plt\n",
        "\n",
        "# Download NLTK resources\n",
        "nltk.download('stopwords')\n",
        "nltk.download('wordnet')\n",
        "\n",
        "\n",
        "\n",
        "# Create bigrams and trigrams\n",
        "bigram = Phrases(df_final['clean_questions'], min_count=5, threshold=50)\n",
        "trigram = Phrases(bigram[df_final['clean_questions']], min_count=5, threshold=50)\n",
        "\n",
        "df_final['clean_questions_bigrams'] = list(bigram[df_final['clean_questions']])\n",
        "df_final['clean_questions_trigrams'] = list(trigram[bigram[df_final['clean_questions']]])\n",
        "\n",
        "# Train Word2Vec model\n",
        "word2vec_model = Word2Vec(sentences=df_final['clean_questions_trigrams'], vector_size=300, window=5, min_count=1, workers=4)\n",
        "\n",
        "# Create dictionary and corpus\n",
        "dictionary = Dictionary(df_final['clean_questions_trigrams'])\n",
        "corpus = [dictionary.doc2bow(doc) for doc in df_final['clean_questions_trigrams']]\n",
        "\n",
        "# Fine-tune LDA hyperparameters\n",
        "coherence_scores_lda_2 = []\n",
        "for num_topics in range(2, 21):\n",
        "    lda_model = LdaModel(\n",
        "        corpus,\n",
        "        num_topics=num_topics,\n",
        "        id2word=dictionary,\n",
        "        passes=20,\n",
        "        alpha=0.01,\n",
        "        eta=0.01,\n",
        "        iterations=100,\n",
        "        chunksize=200,\n",
        "        minimum_probability=0.05\n",
        "    )\n",
        "    coherence_model = CoherenceModel(\n",
        "        model=lda_model,\n",
        "        texts=df_final['clean_questions_trigrams'],\n",
        "        dictionary=dictionary,\n",
        "        coherence='c_v'\n",
        "    )\n",
        "    coherence_scores_lda_2.append(coherence_model.get_coherence())\n",
        "\n",
        "# Plot coherence scores for different numbers of topics\n",
        "plt.plot(range(2, 21), coherence_scores_lda_2)\n",
        "plt.xlabel(\"Number of Topics\")\n",
        "plt.ylabel(\"Coherence Score (c_v)\")\n",
        "plt.title(\"LDA Model Coherence Tuning with Bigrams and Trigrams\")\n",
        "plt.show()"
      ]
    },
    {
      "cell_type": "code",
      "execution_count": 25,
      "metadata": {
        "colab": {
          "base_uri": "https://localhost:8080/"
        },
        "id": "Vsf4QErGKH9t",
        "outputId": "34063aa2-755a-4b87-9225-aea6760e6fdf"
      },
      "outputs": [
        {
          "output_type": "stream",
          "name": "stdout",
          "text": [
            "Highest coherence score: 0.5198036828692587\n"
          ]
        }
      ],
      "source": [
        "print(f\"Highest coherence score: {max(coherence_scores_lda_2)}\")"
      ]
    },
    {
      "cell_type": "code",
      "execution_count": 26,
      "metadata": {
        "colab": {
          "base_uri": "https://localhost:8080/"
        },
        "id": "FqDZOLmfKH7E",
        "outputId": "916aefb0-bb08-45a5-87ef-39cc28dd6d64"
      },
      "outputs": [
        {
          "output_type": "stream",
          "name": "stdout",
          "text": [
            "Optimal number of topics: 20\n"
          ]
        }
      ],
      "source": [
        "#LDA Model\n",
        "\n",
        "# Find the optimal number of topics\n",
        "optimal_num_topics_lda_2 = range(2, 21)[coherence_scores_lda_2.index(max(coherence_scores_lda_2))]\n",
        "print(f\"Optimal number of topics: {optimal_num_topics_lda_2}\")\n",
        "\n",
        "\n"
      ]
    },
    {
      "cell_type": "markdown",
      "metadata": {
        "id": "T6gukjQ3u4WX"
      },
      "source": [
        "After using 3 Techniques of LDA,LSA and NMF we found out that ideal topic modeling tool is LDA with highest coherent score of above 0.4"
      ]
    },
    {
      "cell_type": "markdown",
      "metadata": {
        "id": "0vZqfQz7xc-Z"
      },
      "source": [
        "But 20 topics are too much and as the graph suggests its overfitting, trying out various other approaches"
      ]
    },
    {
      "cell_type": "markdown",
      "metadata": {
        "id": "0XKqnkFpxnqF"
      },
      "source": [
        "Increasing threshold of bigrams and trigrams, we have found the coherent scores are decreased. As such decresing the threshold"
      ]
    },
    {
      "cell_type": "code",
      "execution_count": 27,
      "metadata": {
        "id": "GufS3bfwoMHu",
        "colab": {
          "base_uri": "https://localhost:8080/",
          "height": 541
        },
        "outputId": "d846cbf9-51ea-40a9-a43b-4930d6530dc5"
      },
      "outputs": [
        {
          "output_type": "stream",
          "name": "stderr",
          "text": [
            "[nltk_data] Downloading package stopwords to /root/nltk_data...\n",
            "[nltk_data]   Package stopwords is already up-to-date!\n",
            "[nltk_data] Downloading package wordnet to /root/nltk_data...\n",
            "[nltk_data]   Package wordnet is already up-to-date!\n"
          ]
        },
        {
          "output_type": "display_data",
          "data": {
            "text/plain": [
              "<Figure size 640x480 with 1 Axes>"
            ],
            "image/png": "[encoded data removed]"
          },
          "metadata": {}
        }
      ],
      "source": [
        "from gensim.models import LdaModel\n",
        "from gensim.models import CoherenceModel\n",
        "from gensim.corpora import Dictionary\n",
        "from gensim.utils import simple_preprocess\n",
        "from gensim.parsing.preprocessing import STOPWORDS, strip_tags, strip_punctuation, strip_multiple_whitespaces\n",
        "from nltk.stem import WordNetLemmatizer\n",
        "from gensim.parsing.porter import PorterStemmer\n",
        "from nltk.corpus import stopwords\n",
        "from gensim.models import Word2Vec, Phrases\n",
        "import string\n",
        "import nltk\n",
        "import matplotlib.pyplot as plt\n",
        "\n",
        "# Download NLTK resources\n",
        "nltk.download('stopwords')\n",
        "nltk.download('wordnet')\n",
        "\n",
        "\n",
        "# Create bigrams and trigrams with adjusted thresholds\n",
        "bigram = Phrases(df_final['clean_questions'], min_count=5, threshold=30)\n",
        "trigram = Phrases(bigram[df_final['clean_questions']], min_count=5, threshold=30)\n",
        "\n",
        "df_final['clean_questions_bigrams'] = list(bigram[df_final['clean_questions']])\n",
        "df_final['clean_questions_trigrams'] = list(trigram[bigram[df_final['clean_questions']]])\n",
        "\n",
        "# Train Word2Vec model\n",
        "word2vec_model = Word2Vec(sentences=df_final['clean_questions_trigrams'], vector_size=300, window=5, min_count=1, workers=4)\n",
        "\n",
        "# Create dictionary and corpus\n",
        "dictionary = Dictionary(df_final['clean_questions_trigrams'])\n",
        "corpus = [dictionary.doc2bow(doc) for doc in df_final['clean_questions_trigrams']]\n",
        "\n",
        "# Fine-tune LDA hyperparameters\n",
        "coherence_scores_lda_3 = []\n",
        "for num_topics in range(2, 21):\n",
        "    lda_model = LdaModel(\n",
        "        corpus,\n",
        "        num_topics=num_topics,\n",
        "        id2word=dictionary,\n",
        "        passes=20,\n",
        "        alpha=0.01,\n",
        "        eta=0.01,\n",
        "        iterations=100,\n",
        "        chunksize=200,\n",
        "        minimum_probability=0.05\n",
        "    )\n",
        "    coherence_model = CoherenceModel(\n",
        "        model=lda_model,\n",
        "        texts=df_final['clean_questions_trigrams'],\n",
        "        dictionary=dictionary,\n",
        "        coherence='c_v'\n",
        "    )\n",
        "    coherence_scores_lda_3.append(coherence_model.get_coherence())\n",
        "\n",
        "# Plot coherence scores for different numbers of topics\n",
        "plt.plot(range(2, 21), coherence_scores_lda_3)\n",
        "plt.xlabel(\"Number of Topics\")\n",
        "plt.ylabel(\"Coherence Score (c_v)\")\n",
        "plt.title(\"LDA Model Coherence Tuning with Bigrams and Trigrams\")\n",
        "plt.show()"
      ]
    },
    {
      "cell_type": "code",
      "execution_count": 28,
      "metadata": {
        "id": "7oqxgxSAx5a9",
        "colab": {
          "base_uri": "https://localhost:8080/"
        },
        "outputId": "08837343-bb29-45d4-d2a0-52fa12d45ae5"
      },
      "outputs": [
        {
          "output_type": "stream",
          "name": "stdout",
          "text": [
            "Highest coherence score: 0.5093174402018462\n"
          ]
        }
      ],
      "source": [
        "print(f\"Highest coherence score: {max(coherence_scores_lda_3)}\")"
      ]
    },
    {
      "cell_type": "markdown",
      "source": [
        "In both the graphs we can see a spike on Coherence graps at 15 topics"
      ],
      "metadata": {
        "id": "oUMSlaVUarDd"
      }
    },
    {
      "cell_type": "markdown",
      "metadata": {
        "id": "ZnP1_4oHIkBq"
      },
      "source": []
    },
    {
      "cell_type": "code",
      "execution_count": 29,
      "metadata": {
        "id": "9CK_sZBvx5Yh",
        "colab": {
          "base_uri": "https://localhost:8080/"
        },
        "outputId": "d8b66b5a-87b8-4341-ee43-b5c6789d2fbe"
      },
      "outputs": [
        {
          "output_type": "stream",
          "name": "stdout",
          "text": [
            "Optimal number of topics: 19\n"
          ]
        }
      ],
      "source": [
        "#LDA Model\n",
        "# Find the optimal number of topics\n",
        "optimal_num_topics_lda_3 = range(2, 21)[coherence_scores_lda_3.index(max(coherence_scores_lda_3))]\n",
        "print(f\"Optimal number of topics: {optimal_num_topics_lda_3}\")\n",
        "\n",
        "\n"
      ]
    },
    {
      "cell_type": "markdown",
      "metadata": {
        "id": "_NwK-7IhI6c5"
      },
      "source": [
        "Coherence score decreased when threshold is increased, as such reverting the value to less\n",
        "More over the number of topics remain same"
      ]
    },
    {
      "cell_type": "markdown",
      "metadata": {
        "id": "vdJ4gKma83Xl"
      },
      "source": [
        "From above observations Unigrams also are porducing less amount of coherent scores"
      ]
    },
    {
      "cell_type": "markdown",
      "metadata": {
        "id": "MO9GYTuM9A9l"
      },
      "source": [
        "\n",
        "Selecting the ideal number of topics in topic modeling is often subjective and depends on various factors. In our case, choosing 15 topics where the coherence score spiked suggests a point where the model provides a better balance between capturing meaningful topics and avoiding overfitting. The spike in coherence indicates improved interpretability of topics. However, it's essential to consider other factors such as domain knowledge, application requirements, and the coherence trend across different topic numbers. Experimentation and sensitivity analysis can help validate the optimal choice for a more robust model."
      ]
    },
    {
      "cell_type": "code",
      "source": [],
      "metadata": {
        "id": "3I-JOCPd0wNg"
      },
      "execution_count": null,
      "outputs": []
    },
    {
      "cell_type": "code",
      "source": [
        "optimal_num_topics_lda_final = 15"
      ],
      "metadata": {
        "id": "tkl38Rpj0wCu"
      },
      "execution_count": 31,
      "outputs": []
    },
    {
      "cell_type": "markdown",
      "source": [
        "optimal_num_topics_lda_final of 15 has the optimal coherent score above 0.5"
      ],
      "metadata": {
        "id": "Wmm_FBO68J6W"
      }
    },
    {
      "cell_type": "code",
      "execution_count": 32,
      "metadata": {
        "id": "qRrYVxMvV8h5"
      },
      "outputs": [],
      "source": [
        "# Assuming you've already created the 'corpus' and 'dictionary' objects\n",
        "\n",
        "# Build the LDA model with the optimal number of topics\n",
        "lda_model = LdaModel(corpus, num_topics=optimal_num_topics_lda_final, id2word=dictionary, passes=15)\n",
        "\n"
      ]
    },
    {
      "cell_type": "code",
      "execution_count": 33,
      "metadata": {
        "id": "XT4V9q3csBWn",
        "colab": {
          "base_uri": "https://localhost:8080/",
          "height": 1000
        },
        "outputId": "ce458b65-955c-48f5-d5dc-9085628a2ce1"
      },
      "outputs": [
        {
          "output_type": "stream",
          "name": "stdout",
          "text": [
            "Topic: 0 \n",
            "Words: 0.111*\"canada\" + 0.062*\"tax\" + 0.055*\"canadian\" + 0.032*\"year\" + 0.032*\"company\" + 0.028*\"work\" + 0.028*\"earn\" + 0.028*\"resident\" + 0.023*\"mean\" + 0.022*\"eligible\"\n",
            "\n",
            "Topic: 1 \n",
            "Words: 0.258*\"income\" + 0.050*\"foreign\" + 0.046*\"taxable\" + 0.036*\"consider\" + 0.033*\"question\" + 0.028*\"deduct\" + 0.024*\"split\" + 0.022*\"earn\" + 0.021*\"investment\" + 0.020*\"pension\"\n",
            "\n",
            "Topic: 2 \n",
            "Words: 0.190*\"claim\" + 0.091*\"work\" + 0.080*\"home\" + 0.054*\"expense\" + 0.045*\"fee\" + 0.034*\"cost\" + 0.023*\"mortgage\" + 0.020*\"tax\" + 0.017*\"parent\" + 0.017*\"transfer\"\n",
            "\n",
            "Topic: 3 \n",
            "Words: 0.258*\"file\" + 0.176*\"tax\" + 0.051*\"need\" + 0.044*\"return\" + 0.029*\"line\" + 0.025*\"box\" + 0.021*\"enter\" + 0.019*\"happen\" + 0.019*\"year\" + 0.019*\"information\"\n",
            "\n",
            "Topic: 4 \n",
            "Words: 0.107*\"report\" + 0.103*\"return\" + 0.091*\"form\" + 0.064*\"tax\" + 0.059*\"income\" + 0.034*\"example\" + 0.032*\"include\" + 0.032*\"need\" + 0.026*\"total\" + 0.024*\"list\"\n",
            "\n",
            "Topic: 5 \n",
            "Words: 0.153*\"year\" + 0.090*\"benefit\" + 0.050*\"self_employ\" + 0.043*\"tax\" + 0.025*\"deduction\" + 0.025*\"car\" + 0.023*\"cpp\" + 0.019*\"rrsp\" + 0.019*\"person\" + 0.018*\"make\"\n",
            "\n",
            "Topic: 6 \n",
            "Words: 0.218*\"pay\" + 0.192*\"tax\" + 0.060*\"income\" + 0.029*\"corporation\" + 0.028*\"personal\" + 0.024*\"dividends\" + 0.023*\"answer\" + 0.023*\"calculate\" + 0.022*\"canada\" + 0.021*\"need\"\n",
            "\n",
            "Topic: 7 \n",
            "Words: 0.174*\"expense\" + 0.081*\"claim\" + 0.055*\"rent\" + 0.049*\"medical\" + 0.027*\"deductible\" + 0.021*\"move\" + 0.020*\"deduct\" + 0.020*\"payments\" + 0.018*\"business\" + 0.015*\"code\"\n",
            "\n",
            "Topic: 8 \n",
            "Words: 0.110*\"tax\" + 0.064*\"ontario\" + 0.053*\"live\" + 0.050*\"quebec\" + 0.047*\"rate\" + 0.033*\"house\" + 0.030*\"canada\" + 0.020*\"software\" + 0.019*\"work\" + 0.017*\"purpose\"\n",
            "\n",
            "Topic: 9 \n",
            "Words: 0.118*\"business\" + 0.092*\"use\" + 0.054*\"write\" + 0.030*\"employment\" + 0.030*\"ask\" + 0.024*\"charge\" + 0.021*\"dan\" + 0.021*\"free\" + 0.017*\"better\" + 0.016*\"dividend\"\n",
            "\n",
            "Topic: 10 \n",
            "Words: 0.101*\"tax\" + 0.050*\"save\" + 0.031*\"service\" + 0.031*\"gst\" + 0.030*\"free\" + 0.028*\"number\" + 0.027*\"submit\" + 0.026*\"register\" + 0.024*\"hst\" + 0.023*\"tell\"\n",
            "\n",
            "Topic: 11 \n",
            "Words: 0.130*\"tax\" + 0.048*\"rrsp\" + 0.046*\"owe\" + 0.045*\"limit\" + 0.042*\"reduce\" + 0.040*\"deductions\" + 0.028*\"bracket\" + 0.027*\"best\" + 0.023*\"add\" + 0.022*\"federal\"\n",
            "\n",
            "Topic: 12 \n",
            "Words: 0.186*\"credit\" + 0.153*\"tax\" + 0.044*\"claim\" + 0.039*\"refund\" + 0.031*\"tuition\" + 0.029*\"disability\" + 0.026*\"ontario\" + 0.026*\"qualify\" + 0.020*\"apply\" + 0.015*\"send\"\n",
            "\n",
            "Topic: 13 \n",
            "Words: 0.144*\"property\" + 0.115*\"rental\" + 0.074*\"capital_gain\" + 0.062*\"sell\" + 0.042*\"buy\" + 0.037*\"tax\" + 0.025*\"sale\" + 0.025*\"new\" + 0.022*\"cca\" + 0.020*\"section\"\n",
            "\n",
            "Topic: 14 \n",
            "Words: 0.076*\"cra\" + 0.063*\"account\" + 0.060*\"money\" + 0.042*\"stock\" + 0.036*\"slip\" + 0.035*\"time\" + 0.035*\"declare\" + 0.032*\"receive\" + 0.025*\"change\" + 0.018*\"tax\"\n",
            "\n"
          ]
        },
        {
          "output_type": "display_data",
          "data": {
            "text/plain": [
              "<Figure size 640x480 with 1 Axes>"
            ],
            "image/png": "[encoded data removed]"
          },
          "metadata": {}
        }
      ],
      "source": [
        "# Print the identified topics and their top words from the LDA model\n",
        "for idx, topic in lda_model.print_topics(-1):\n",
        "    print(f'Topic: {idx} \\nWords: {topic}\\n')\n",
        "\n",
        "# Assign topics to questions based on the highest probability topic\n",
        "topics = [sorted(lda_model[doc], key=lambda x: -x[1])[0][0] for doc in corpus]\n",
        "df_final['topic'] = topics\n",
        "\n",
        "# Count of questions per topic\n",
        "plt.hist(topics, bins=num_topics)\n",
        "plt.title(\"Count of Questions per Topic\")\n",
        "plt.xlabel(\"Topic\")\n",
        "plt.ylabel(\"Number of Questions\")\n",
        "plt.show()"
      ]
    },
    {
      "cell_type": "code",
      "execution_count": 34,
      "metadata": {
        "id": "o11Hi3XZwAo7"
      },
      "outputs": [],
      "source": [
        "# Get the topic distributions for each document\n",
        "document_topic_distributions = []\n",
        "\n",
        "for doc in corpus:\n",
        "    doc_topics = lda_model.get_document_topics(doc)\n",
        "    # Convert the topics for this document into a list\n",
        "    topic_distribution = [0] * lda_model.num_topics  # Initialize a list of zeros for each topic\n",
        "    for topic, prob in doc_topics:\n",
        "        topic_distribution[topic] = prob\n",
        "    document_topic_distributions.append(topic_distribution)\n",
        "\n",
        "# Convert the document-topic distributions to a numpy array\n",
        "doc_topic_matrix = np.array(document_topic_distributions)\n",
        "\n",
        "# Now, we can proceed with clustering using doc_topic_matrix\n"
      ]
    },
    {
      "cell_type": "code",
      "source": [
        "#Using Silhouette model to get ideal number of clusters\n",
        "\n",
        "from sklearn.metrics import silhouette_score\n",
        "from sklearn.cluster import KMeans\n",
        "\n",
        "max_clusters = 15\n",
        "\n",
        "# Silhouette Score\n",
        "silhouette_scores = []\n",
        "for k in range(2, max_clusters + 1):\n",
        "    kmeans = KMeans(n_clusters=k, random_state=42)\n",
        "    labels = kmeans.fit_predict(doc_topic_matrix)\n",
        "    silhouette_scores.append(silhouette_score(doc_topic_matrix, labels))\n",
        "plt.plot(range(2, max_clusters + 1), silhouette_scores, marker='o')\n",
        "plt.xlabel('Number of Clusters')\n",
        "plt.ylabel('Silhouette Score')\n",
        "plt.title('Silhouette Score Method')\n",
        "plt.show()"
      ],
      "metadata": {
        "colab": {
          "base_uri": "https://localhost:8080/",
          "height": 978
        },
        "id": "pt-4_vZ48v4t",
        "outputId": "9456a289-76dc-492a-cfa7-5f5002798b92"
      },
      "execution_count": 35,
      "outputs": [
        {
          "output_type": "stream",
          "name": "stderr",
          "text": [
            "/usr/local/lib/python3.10/dist-packages/sklearn/cluster/_kmeans.py:870: FutureWarning: The default value of `n_init` will change from 10 to 'auto' in 1.4. Set the value of `n_init` explicitly to suppress the warning\n",
            "  warnings.warn(\n",
            "/usr/local/lib/python3.10/dist-packages/sklearn/cluster/_kmeans.py:870: FutureWarning: The default value of `n_init` will change from 10 to 'auto' in 1.4. Set the value of `n_init` explicitly to suppress the warning\n",
            "  warnings.warn(\n",
            "/usr/local/lib/python3.10/dist-packages/sklearn/cluster/_kmeans.py:870: FutureWarning: The default value of `n_init` will change from 10 to 'auto' in 1.4. Set the value of `n_init` explicitly to suppress the warning\n",
            "  warnings.warn(\n",
            "/usr/local/lib/python3.10/dist-packages/sklearn/cluster/_kmeans.py:870: FutureWarning: The default value of `n_init` will change from 10 to 'auto' in 1.4. Set the value of `n_init` explicitly to suppress the warning\n",
            "  warnings.warn(\n",
            "/usr/local/lib/python3.10/dist-packages/sklearn/cluster/_kmeans.py:870: FutureWarning: The default value of `n_init` will change from 10 to 'auto' in 1.4. Set the value of `n_init` explicitly to suppress the warning\n",
            "  warnings.warn(\n",
            "/usr/local/lib/python3.10/dist-packages/sklearn/cluster/_kmeans.py:870: FutureWarning: The default value of `n_init` will change from 10 to 'auto' in 1.4. Set the value of `n_init` explicitly to suppress the warning\n",
            "  warnings.warn(\n",
            "/usr/local/lib/python3.10/dist-packages/sklearn/cluster/_kmeans.py:870: FutureWarning: The default value of `n_init` will change from 10 to 'auto' in 1.4. Set the value of `n_init` explicitly to suppress the warning\n",
            "  warnings.warn(\n",
            "/usr/local/lib/python3.10/dist-packages/sklearn/cluster/_kmeans.py:870: FutureWarning: The default value of `n_init` will change from 10 to 'auto' in 1.4. Set the value of `n_init` explicitly to suppress the warning\n",
            "  warnings.warn(\n",
            "/usr/local/lib/python3.10/dist-packages/sklearn/cluster/_kmeans.py:870: FutureWarning: The default value of `n_init` will change from 10 to 'auto' in 1.4. Set the value of `n_init` explicitly to suppress the warning\n",
            "  warnings.warn(\n",
            "/usr/local/lib/python3.10/dist-packages/sklearn/cluster/_kmeans.py:870: FutureWarning: The default value of `n_init` will change from 10 to 'auto' in 1.4. Set the value of `n_init` explicitly to suppress the warning\n",
            "  warnings.warn(\n",
            "/usr/local/lib/python3.10/dist-packages/sklearn/cluster/_kmeans.py:870: FutureWarning: The default value of `n_init` will change from 10 to 'auto' in 1.4. Set the value of `n_init` explicitly to suppress the warning\n",
            "  warnings.warn(\n",
            "/usr/local/lib/python3.10/dist-packages/sklearn/cluster/_kmeans.py:870: FutureWarning: The default value of `n_init` will change from 10 to 'auto' in 1.4. Set the value of `n_init` explicitly to suppress the warning\n",
            "  warnings.warn(\n",
            "/usr/local/lib/python3.10/dist-packages/sklearn/cluster/_kmeans.py:870: FutureWarning: The default value of `n_init` will change from 10 to 'auto' in 1.4. Set the value of `n_init` explicitly to suppress the warning\n",
            "  warnings.warn(\n",
            "/usr/local/lib/python3.10/dist-packages/sklearn/cluster/_kmeans.py:870: FutureWarning: The default value of `n_init` will change from 10 to 'auto' in 1.4. Set the value of `n_init` explicitly to suppress the warning\n",
            "  warnings.warn(\n"
          ]
        },
        {
          "output_type": "display_data",
          "data": {
            "text/plain": [
              "<Figure size 640x480 with 1 Axes>"
            ],
            "image/png": "[encoded data removed]"
          },
          "metadata": {}
        }
      ]
    },
    {
      "cell_type": "code",
      "source": [
        "#Using Elbow Method,\n",
        "\n",
        "inertias = []\n",
        "for k in range(1, max_clusters + 1):\n",
        "    kmeans = KMeans(n_clusters=k, random_state=42)\n",
        "    kmeans.fit(doc_topic_matrix)\n",
        "    inertias.append(kmeans.inertia_)\n",
        "plt.plot(range(1, max_clusters + 1), inertias, marker='o')\n",
        "plt.xlabel('Number of Clusters')\n",
        "plt.ylabel('Inertia')\n",
        "plt.title('Elbow Method')\n",
        "plt.show()"
      ],
      "metadata": {
        "colab": {
          "base_uri": "https://localhost:8080/",
          "height": 1000
        },
        "id": "O3iWoE3N9MPE",
        "outputId": "561b7eff-68b6-4b5f-e8fe-e9e488c0d81c"
      },
      "execution_count": 36,
      "outputs": [
        {
          "output_type": "stream",
          "name": "stderr",
          "text": [
            "/usr/local/lib/python3.10/dist-packages/sklearn/cluster/_kmeans.py:870: FutureWarning: The default value of `n_init` will change from 10 to 'auto' in 1.4. Set the value of `n_init` explicitly to suppress the warning\n",
            "  warnings.warn(\n",
            "/usr/local/lib/python3.10/dist-packages/sklearn/cluster/_kmeans.py:870: FutureWarning: The default value of `n_init` will change from 10 to 'auto' in 1.4. Set the value of `n_init` explicitly to suppress the warning\n",
            "  warnings.warn(\n",
            "/usr/local/lib/python3.10/dist-packages/sklearn/cluster/_kmeans.py:870: FutureWarning: The default value of `n_init` will change from 10 to 'auto' in 1.4. Set the value of `n_init` explicitly to suppress the warning\n",
            "  warnings.warn(\n",
            "/usr/local/lib/python3.10/dist-packages/sklearn/cluster/_kmeans.py:870: FutureWarning: The default value of `n_init` will change from 10 to 'auto' in 1.4. Set the value of `n_init` explicitly to suppress the warning\n",
            "  warnings.warn(\n",
            "/usr/local/lib/python3.10/dist-packages/sklearn/cluster/_kmeans.py:870: FutureWarning: The default value of `n_init` will change from 10 to 'auto' in 1.4. Set the value of `n_init` explicitly to suppress the warning\n",
            "  warnings.warn(\n",
            "/usr/local/lib/python3.10/dist-packages/sklearn/cluster/_kmeans.py:870: FutureWarning: The default value of `n_init` will change from 10 to 'auto' in 1.4. Set the value of `n_init` explicitly to suppress the warning\n",
            "  warnings.warn(\n",
            "/usr/local/lib/python3.10/dist-packages/sklearn/cluster/_kmeans.py:870: FutureWarning: The default value of `n_init` will change from 10 to 'auto' in 1.4. Set the value of `n_init` explicitly to suppress the warning\n",
            "  warnings.warn(\n",
            "/usr/local/lib/python3.10/dist-packages/sklearn/cluster/_kmeans.py:870: FutureWarning: The default value of `n_init` will change from 10 to 'auto' in 1.4. Set the value of `n_init` explicitly to suppress the warning\n",
            "  warnings.warn(\n",
            "/usr/local/lib/python3.10/dist-packages/sklearn/cluster/_kmeans.py:870: FutureWarning: The default value of `n_init` will change from 10 to 'auto' in 1.4. Set the value of `n_init` explicitly to suppress the warning\n",
            "  warnings.warn(\n",
            "/usr/local/lib/python3.10/dist-packages/sklearn/cluster/_kmeans.py:870: FutureWarning: The default value of `n_init` will change from 10 to 'auto' in 1.4. Set the value of `n_init` explicitly to suppress the warning\n",
            "  warnings.warn(\n",
            "/usr/local/lib/python3.10/dist-packages/sklearn/cluster/_kmeans.py:870: FutureWarning: The default value of `n_init` will change from 10 to 'auto' in 1.4. Set the value of `n_init` explicitly to suppress the warning\n",
            "  warnings.warn(\n",
            "/usr/local/lib/python3.10/dist-packages/sklearn/cluster/_kmeans.py:870: FutureWarning: The default value of `n_init` will change from 10 to 'auto' in 1.4. Set the value of `n_init` explicitly to suppress the warning\n",
            "  warnings.warn(\n",
            "/usr/local/lib/python3.10/dist-packages/sklearn/cluster/_kmeans.py:870: FutureWarning: The default value of `n_init` will change from 10 to 'auto' in 1.4. Set the value of `n_init` explicitly to suppress the warning\n",
            "  warnings.warn(\n",
            "/usr/local/lib/python3.10/dist-packages/sklearn/cluster/_kmeans.py:870: FutureWarning: The default value of `n_init` will change from 10 to 'auto' in 1.4. Set the value of `n_init` explicitly to suppress the warning\n",
            "  warnings.warn(\n",
            "/usr/local/lib/python3.10/dist-packages/sklearn/cluster/_kmeans.py:870: FutureWarning: The default value of `n_init` will change from 10 to 'auto' in 1.4. Set the value of `n_init` explicitly to suppress the warning\n",
            "  warnings.warn(\n"
          ]
        },
        {
          "output_type": "display_data",
          "data": {
            "text/plain": [
              "<Figure size 640x480 with 1 Axes>"
            ],
            "image/png": "[encoded data removed]"
          },
          "metadata": {}
        }
      ]
    },
    {
      "cell_type": "markdown",
      "source": [
        "In both methods we can see at Number of cluster => 7 has a steep change\n",
        "\n",
        "---\n",
        "\n",
        "increase in Sihoulette curve and steep decline on elbow method"
      ],
      "metadata": {
        "id": "WpvdnZdm_EWf"
      }
    },
    {
      "cell_type": "code",
      "source": [
        "#KNN using 7 clusters,\n",
        "\n",
        "from sklearn.cluster import KMeans\n",
        "\n",
        "\n",
        "# Convert the document-topic distributions to a numpy array\n",
        "doc_topic_matrix = np.array(document_topic_distributions)\n",
        "\n",
        "# Perform K-means clustering on the document-topic distributions\n",
        "num_clusters = 7  # Number of clusters (based on the number of topics)\n",
        "kmeans = KMeans(n_clusters=num_clusters, random_state=42)\n",
        "clusters = kmeans.fit_predict(doc_topic_matrix)\n",
        "\n"
      ],
      "metadata": {
        "colab": {
          "base_uri": "https://localhost:8080/"
        },
        "id": "veBcGhUR9MKH",
        "outputId": "414a72ff-afc8-4238-bc3a-8b6a2efca8da"
      },
      "execution_count": 37,
      "outputs": [
        {
          "output_type": "stream",
          "name": "stderr",
          "text": [
            "/usr/local/lib/python3.10/dist-packages/sklearn/cluster/_kmeans.py:870: FutureWarning: The default value of `n_init` will change from 10 to 'auto' in 1.4. Set the value of `n_init` explicitly to suppress the warning\n",
            "  warnings.warn(\n"
          ]
        }
      ]
    },
    {
      "cell_type": "code",
      "execution_count": 38,
      "metadata": {
        "id": "5YVKi3SZwjWR",
        "colab": {
          "base_uri": "https://localhost:8080/"
        },
        "outputId": "ade4a6d6-65cf-4c21-d048-b60d236cd3a3"
      },
      "outputs": [
        {
          "output_type": "stream",
          "name": "stdout",
          "text": [
            "[1 1 0 ... 2 3 5]\n"
          ]
        }
      ],
      "source": [
        "print(clusters)"
      ]
    },
    {
      "cell_type": "code",
      "execution_count": 39,
      "metadata": {
        "id": "-kwBmwDRwAe2"
      },
      "outputs": [],
      "source": [
        "# Suppose you have obtained the cluster labels from K-means clustering\n",
        "# 'clusters' variable represents the cluster labels\n",
        "\n",
        "# Assuming 'df' is your DataFrame containing the documents\n",
        "df_final['cluster_label'] = clusters  # Assign the cluster labels to the DataFrame\n"
      ]
    },
    {
      "cell_type": "code",
      "execution_count": 40,
      "metadata": {
        "id": "w3T6Vl5Mwm0Y",
        "colab": {
          "base_uri": "https://localhost:8080/",
          "height": 590
        },
        "outputId": "38f39cf4-b12d-4621-d9b6-0a04cdc5802e"
      },
      "outputs": [
        {
          "output_type": "execute_result",
          "data": {
            "text/plain": [
              "                                 questionTax  \\\n",
              "2                             I died in 2021   \n",
              "3            How to fine as sole proprietor    \n",
              "6  who is eligible for care giver benefits\\n   \n",
              "7        Where to claim self employment ink?   \n",
              "9                 Can I write off hookers?\\n   \n",
              "\n",
              "                                           answerTax  \\\n",
              "2  I'm sorry to hear that. In this case, your fil...   \n",
              "3  As a sole proprietor in Canada, you are requir...   \n",
              "6  If you live in Canada and are a caregiver for ...   \n",
              "7  As a self-employed individual in Canada, you c...   \n",
              "9  No, you cannot write off the expenses for ille...   \n",
              "\n",
              "                    clean_questions          clean_questions_unigrams  \\\n",
              "2                             [die]                             [die]   \n",
              "3          [fine, sole, proprietor]          [fine, sole, proprietor]   \n",
              "6  [eligible, care, giver, benefit]  [eligible, care, giver, benefit]   \n",
              "7    [claim, self, employment, ink]    [claim, self, employment, ink]   \n",
              "9                  [write, hookers]                  [write, hookers]   \n",
              "\n",
              "            clean_questions_bigrams          clean_questions_trigrams  topic  \\\n",
              "2                             [die]                             [die]     13   \n",
              "3           [fine, sole_proprietor]           [fine, sole_proprietor]     10   \n",
              "6  [eligible, care, giver, benefit]  [eligible, care, giver, benefit]      0   \n",
              "7     [claim, self_employment, ink]     [claim, self_employment, ink]      1   \n",
              "9                  [write, hookers]                  [write, hookers]      9   \n",
              "\n",
              "   cluster_label  \n",
              "2              1  \n",
              "3              1  \n",
              "6              0  \n",
              "7              1  \n",
              "9              1  "
            ],
            "text/html": [
              "\n",
              "  <div id=\"df-dba98ad8-0dd2-4524-b376-f3930f5eca25\" class=\"colab-df-container\">\n",
              "    <div>\n",
              "<style scoped>\n",
              "    .dataframe tbody tr th:only-of-type {\n",
              "        vertical-align: middle;\n",
              "    }\n",
              "\n",
              "    .dataframe tbody tr th {\n",
              "        vertical-align: top;\n",
              "    }\n",
              "\n",
              "    .dataframe thead th {\n",
              "        text-align: right;\n",
              "    }\n",
              "</style>\n",
              "<table border=\"1\" class=\"dataframe\">\n",
              "  <thead>\n",
              "    <tr style=\"text-align: right;\">\n",
              "      <th></th>\n",
              "      <th>questionTax</th>\n",
              "      <th>answerTax</th>\n",
              "      <th>clean_questions</th>\n",
              "      <th>clean_questions_unigrams</th>\n",
              "      <th>clean_questions_bigrams</th>\n",
              "      <th>clean_questions_trigrams</th>\n",
              "      <th>topic</th>\n",
              "      <th>cluster_label</th>\n",
              "    </tr>\n",
              "  </thead>\n",
              "  <tbody>\n",
              "    <tr>\n",
              "      <th>2</th>\n",
              "      <td>I died in 2021</td>\n",
              "      <td>I'm sorry to hear that. In this case, your fil...</td>\n",
              "      <td>[die]</td>\n",
              "      <td>[die]</td>\n",
              "      <td>[die]</td>\n",
              "      <td>[die]</td>\n",
              "      <td>13</td>\n",
              "      <td>1</td>\n",
              "    </tr>\n",
              "    <tr>\n",
              "      <th>3</th>\n",
              "      <td>How to fine as sole proprietor</td>\n",
              "      <td>As a sole proprietor in Canada, you are requir...</td>\n",
              "      <td>[fine, sole, proprietor]</td>\n",
              "      <td>[fine, sole, proprietor]</td>\n",
              "      <td>[fine, sole_proprietor]</td>\n",
              "      <td>[fine, sole_proprietor]</td>\n",
              "      <td>10</td>\n",
              "      <td>1</td>\n",
              "    </tr>\n",
              "    <tr>\n",
              "      <th>6</th>\n",
              "      <td>who is eligible for care giver benefits\\n</td>\n",
              "      <td>If you live in Canada and are a caregiver for ...</td>\n",
              "      <td>[eligible, care, giver, benefit]</td>\n",
              "      <td>[eligible, care, giver, benefit]</td>\n",
              "      <td>[eligible, care, giver, benefit]</td>\n",
              "      <td>[eligible, care, giver, benefit]</td>\n",
              "      <td>0</td>\n",
              "      <td>0</td>\n",
              "    </tr>\n",
              "    <tr>\n",
              "      <th>7</th>\n",
              "      <td>Where to claim self employment ink?</td>\n",
              "      <td>As a self-employed individual in Canada, you c...</td>\n",
              "      <td>[claim, self, employment, ink]</td>\n",
              "      <td>[claim, self, employment, ink]</td>\n",
              "      <td>[claim, self_employment, ink]</td>\n",
              "      <td>[claim, self_employment, ink]</td>\n",
              "      <td>1</td>\n",
              "      <td>1</td>\n",
              "    </tr>\n",
              "    <tr>\n",
              "      <th>9</th>\n",
              "      <td>Can I write off hookers?\\n</td>\n",
              "      <td>No, you cannot write off the expenses for ille...</td>\n",
              "      <td>[write, hookers]</td>\n",
              "      <td>[write, hookers]</td>\n",
              "      <td>[write, hookers]</td>\n",
              "      <td>[write, hookers]</td>\n",
              "      <td>9</td>\n",
              "      <td>1</td>\n",
              "    </tr>\n",
              "  </tbody>\n",
              "</table>\n",
              "</div>\n",
              "    <div class=\"colab-df-buttons\">\n",
              "\n",
              "  <div class=\"colab-df-container\">\n",
              "    <button class=\"colab-df-convert\" onclick=\"convertToInteractive('df-dba98ad8-0dd2-4524-b376-f3930f5eca25')\"\n",
              "            title=\"Convert this dataframe to an interactive table.\"\n",
              "            style=\"display:none;\">\n",
              "\n",
              "  <svg xmlns=\"http://www.w3.org/2000/svg\" height=\"24px\" viewBox=\"0 -960 960 960\">\n",
              "    <path d=\"M120-120v-720h720v720H120Zm60-500h600v-160H180v160Zm220 220h160v-160H400v160Zm0 220h160v-160H400v160ZM180-400h160v-160H180v160Zm440 0h160v-160H620v160ZM180-180h160v-160H180v160Zm440 0h160v-160H620v160Z\"/>\n",
              "  </svg>\n",
              "    </button>\n",
              "\n",
              "  <style>\n",
              "    .colab-df-container {\n",
              "      display:flex;\n",
              "      gap: 12px;\n",
              "    }\n",
              "\n",
              "    .colab-df-convert {\n",
              "      background-color: #E8F0FE;\n",
              "      border: none;\n",
              "      border-radius: 50%;\n",
              "      cursor: pointer;\n",
              "      display: none;\n",
              "      fill: #1967D2;\n",
              "      height: 32px;\n",
              "      padding: 0 0 0 0;\n",
              "      width: 32px;\n",
              "    }\n",
              "\n",
              "    .colab-df-convert:hover {\n",
              "      background-color: #E2EBFA;\n",
              "      box-shadow: 0px 1px 2px rgba(60, 64, 67, 0.3), 0px 1px 3px 1px rgba(60, 64, 67, 0.15);\n",
              "      fill: #174EA6;\n",
              "    }\n",
              "\n",
              "    .colab-df-buttons div {\n",
              "      margin-bottom: 4px;\n",
              "    }\n",
              "\n",
              "    [theme=dark] .colab-df-convert {\n",
              "      background-color: #3B4455;\n",
              "      fill: #D2E3FC;\n",
              "    }\n",
              "\n",
              "    [theme=dark] .colab-df-convert:hover {\n",
              "      background-color: #434B5C;\n",
              "      box-shadow: 0px 1px 3px 1px rgba(0, 0, 0, 0.15);\n",
              "      filter: drop-shadow(0px 1px 2px rgba(0, 0, 0, 0.3));\n",
              "      fill: #FFFFFF;\n",
              "    }\n",
              "  </style>\n",
              "\n",
              "    <script>\n",
              "      const buttonEl =\n",
              "        document.querySelector('#df-dba98ad8-0dd2-4524-b376-f3930f5eca25 button.colab-df-convert');\n",
              "      buttonEl.style.display =\n",
              "        google.colab.kernel.accessAllowed ? 'block' : 'none';\n",
              "\n",
              "      async function convertToInteractive(key) {\n",
              "        const element = document.querySelector('#df-dba98ad8-0dd2-4524-b376-f3930f5eca25');\n",
              "        const dataTable =\n",
              "          await google.colab.kernel.invokeFunction('convertToInteractive',\n",
              "                                                    [key], {});\n",
              "        if (!dataTable) return;\n",
              "\n",
              "        const docLinkHtml = 'Like what you see? Visit the ' +\n",
              "          '<a target=\"_blank\" href=https://colab.research.google.com/notebooks/data_table.ipynb>data table notebook</a>'\n",
              "          + ' to learn more about interactive tables.';\n",
              "        element.innerHTML = '';\n",
              "        dataTable['output_type'] = 'display_data';\n",
              "        await google.colab.output.renderOutput(dataTable, element);\n",
              "        const docLink = document.createElement('div');\n",
              "        docLink.innerHTML = docLinkHtml;\n",
              "        element.appendChild(docLink);\n",
              "      }\n",
              "    </script>\n",
              "  </div>\n",
              "\n",
              "\n",
              "<div id=\"df-cd7fe723-47b6-40d2-8b38-a2d460421c83\">\n",
              "  <button class=\"colab-df-quickchart\" onclick=\"quickchart('df-cd7fe723-47b6-40d2-8b38-a2d460421c83')\"\n",
              "            title=\"Suggest charts\"\n",
              "            style=\"display:none;\">\n",
              "\n",
              "<svg xmlns=\"http://www.w3.org/2000/svg\" height=\"24px\"viewBox=\"0 0 24 24\"\n",
              "     width=\"24px\">\n",
              "    <g>\n",
              "        <path d=\"M19 3H5c-1.1 0-2 .9-2 2v14c0 1.1.9 2 2 2h14c1.1 0 2-.9 2-2V5c0-1.1-.9-2-2-2zM9 17H7v-7h2v7zm4 0h-2V7h2v10zm4 0h-2v-4h2v4z\"/>\n",
              "    </g>\n",
              "</svg>\n",
              "  </button>\n",
              "\n",
              "<style>\n",
              "  .colab-df-quickchart {\n",
              "      --bg-color: #E8F0FE;\n",
              "      --fill-color: #1967D2;\n",
              "      --hover-bg-color: #E2EBFA;\n",
              "      --hover-fill-color: #174EA6;\n",
              "      --disabled-fill-color: #AAA;\n",
              "      --disabled-bg-color: #DDD;\n",
              "  }\n",
              "\n",
              "  [theme=dark] .colab-df-quickchart {\n",
              "      --bg-color: #3B4455;\n",
              "      --fill-color: #D2E3FC;\n",
              "      --hover-bg-color: #434B5C;\n",
              "      --hover-fill-color: #FFFFFF;\n",
              "      --disabled-bg-color: #3B4455;\n",
              "      --disabled-fill-color: #666;\n",
              "  }\n",
              "\n",
              "  .colab-df-quickchart {\n",
              "    background-color: var(--bg-color);\n",
              "    border: none;\n",
              "    border-radius: 50%;\n",
              "    cursor: pointer;\n",
              "    display: none;\n",
              "    fill: var(--fill-color);\n",
              "    height: 32px;\n",
              "    padding: 0;\n",
              "    width: 32px;\n",
              "  }\n",
              "\n",
              "  .colab-df-quickchart:hover {\n",
              "    background-color: var(--hover-bg-color);\n",
              "    box-shadow: 0 1px 2px rgba(60, 64, 67, 0.3), 0 1px 3px 1px rgba(60, 64, 67, 0.15);\n",
              "    fill: var(--button-hover-fill-color);\n",
              "  }\n",
              "\n",
              "  .colab-df-quickchart-complete:disabled,\n",
              "  .colab-df-quickchart-complete:disabled:hover {\n",
              "    background-color: var(--disabled-bg-color);\n",
              "    fill: var(--disabled-fill-color);\n",
              "    box-shadow: none;\n",
              "  }\n",
              "\n",
              "  .colab-df-spinner {\n",
              "    border: 2px solid var(--fill-color);\n",
              "    border-color: transparent;\n",
              "    border-bottom-color: var(--fill-color);\n",
              "    animation:\n",
              "      spin 1s steps(1) infinite;\n",
              "  }\n",
              "\n",
              "  @keyframes spin {\n",
              "    0% {\n",
              "      border-color: transparent;\n",
              "      border-bottom-color: var(--fill-color);\n",
              "      border-left-color: var(--fill-color);\n",
              "    }\n",
              "    20% {\n",
              "      border-color: transparent;\n",
              "      border-left-color: var(--fill-color);\n",
              "      border-top-color: var(--fill-color);\n",
              "    }\n",
              "    30% {\n",
              "      border-color: transparent;\n",
              "      border-left-color: var(--fill-color);\n",
              "      border-top-color: var(--fill-color);\n",
              "      border-right-color: var(--fill-color);\n",
              "    }\n",
              "    40% {\n",
              "      border-color: transparent;\n",
              "      border-right-color: var(--fill-color);\n",
              "      border-top-color: var(--fill-color);\n",
              "    }\n",
              "    60% {\n",
              "      border-color: transparent;\n",
              "      border-right-color: var(--fill-color);\n",
              "    }\n",
              "    80% {\n",
              "      border-color: transparent;\n",
              "      border-right-color: var(--fill-color);\n",
              "      border-bottom-color: var(--fill-color);\n",
              "    }\n",
              "    90% {\n",
              "      border-color: transparent;\n",
              "      border-bottom-color: var(--fill-color);\n",
              "    }\n",
              "  }\n",
              "</style>\n",
              "\n",
              "  <script>\n",
              "    async function quickchart(key) {\n",
              "      const quickchartButtonEl =\n",
              "        document.querySelector('#' + key + ' button');\n",
              "      quickchartButtonEl.disabled = true;  // To prevent multiple clicks.\n",
              "      quickchartButtonEl.classList.add('colab-df-spinner');\n",
              "      try {\n",
              "        const charts = await google.colab.kernel.invokeFunction(\n",
              "            'suggestCharts', [key], {});\n",
              "      } catch (error) {\n",
              "        console.error('Error during call to suggestCharts:', error);\n",
              "      }\n",
              "      quickchartButtonEl.classList.remove('colab-df-spinner');\n",
              "      quickchartButtonEl.classList.add('colab-df-quickchart-complete');\n",
              "    }\n",
              "    (() => {\n",
              "      let quickchartButtonEl =\n",
              "        document.querySelector('#df-cd7fe723-47b6-40d2-8b38-a2d460421c83 button');\n",
              "      quickchartButtonEl.style.display =\n",
              "        google.colab.kernel.accessAllowed ? 'block' : 'none';\n",
              "    })();\n",
              "  </script>\n",
              "</div>\n",
              "    </div>\n",
              "  </div>\n"
            ]
          },
          "metadata": {},
          "execution_count": 40
        }
      ],
      "source": [
        "df_final.head()"
      ]
    },
    {
      "cell_type": "code",
      "execution_count": 41,
      "metadata": {
        "id": "F9mVcusTwmrA",
        "colab": {
          "base_uri": "https://localhost:8080/",
          "height": 1000
        },
        "outputId": "4140b929-5866-4d91-da9e-1e071ac363d1"
      },
      "outputs": [
        {
          "output_type": "execute_result",
          "data": {
            "text/plain": [
              "                                             questionTax  \\\n",
              "27                   How do I file a section 85 rollover   \n",
              "42                  What changes when you are separated?   \n",
              "45                                     What are taxes?\\n   \n",
              "52     I want to know how to file tax for a rental pr...   \n",
              "71                                           Late filing   \n",
              "...                                                  ...   \n",
              "10444               what is the penalty for filing late?   \n",
              "10475  Comment mon information fiscale reste confiden...   \n",
              "10719  What date and time do I have to electronically...   \n",
              "10758                            How do I file my taxes?   \n",
              "10846  can you file your property taxes on your prima...   \n",
              "\n",
              "                                               answerTax  \\\n",
              "27     If you want to file a Section 85 rollover, you...   \n",
              "42     When separating from your spouse or partner, t...   \n",
              "45     Taxes are mandatory payments that individuals ...   \n",
              "52     If you're renting out a property in Canada, yo...   \n",
              "71     If you are filing your taxes after the deadlin...   \n",
              "...                                                  ...   \n",
              "10444  If you file your taxes late, you may face pena...   \n",
              "10475  En tant que résident canadien, votre informati...   \n",
              "10719  For the 2022 tax year, the deadline for most i...   \n",
              "10758  To file your taxes in Canada, you will need to...   \n",
              "10846  In Canada, property taxes are typically assess...   \n",
              "\n",
              "                                         clean_questions  \\\n",
              "27                             [file, section, rollover]   \n",
              "42                                    [change, separate]   \n",
              "45                                                 [tax]   \n",
              "52             [want, know, file, tax, rental, property]   \n",
              "71                                          [late, file]   \n",
              "...                                                  ...   \n",
              "10444                              [penalty, file, late]   \n",
              "10475  [comment, mon, information, fiscale, reste, co...   \n",
              "10719  [date, time, electronically, file, income, tax...   \n",
              "10758                                        [file, tax]   \n",
              "10846          [file, property, tax, primary, residence]   \n",
              "\n",
              "                                clean_questions_unigrams  \\\n",
              "27                             [file, section, rollover]   \n",
              "42                                    [change, separate]   \n",
              "45                                                 [tax]   \n",
              "52             [want, know, file, tax, rental, property]   \n",
              "71                                          [late, file]   \n",
              "...                                                  ...   \n",
              "10444                              [penalty, file, late]   \n",
              "10475  [comment, mon, information, fiscale, reste, co...   \n",
              "10719  [date, time, electronically, file, income, tax...   \n",
              "10758                                        [file, tax]   \n",
              "10846          [file, property, tax, primary, residence]   \n",
              "\n",
              "                                 clean_questions_bigrams  \\\n",
              "27                             [file, section, rollover]   \n",
              "42                                    [change, separate]   \n",
              "45                                                 [tax]   \n",
              "52              [want_know, file, tax, rental, property]   \n",
              "71                                          [late, file]   \n",
              "...                                                  ...   \n",
              "10444                              [penalty, file, late]   \n",
              "10475  [comment, mon, information, fiscale, reste, co...   \n",
              "10719  [date, time, electronically, file, income, tax...   \n",
              "10758                                        [file, tax]   \n",
              "10846           [file, property, tax, primary_residence]   \n",
              "\n",
              "                                clean_questions_trigrams  topic  cluster_label  \n",
              "27                             [file, section, rollover]     13              3  \n",
              "42                                    [change, separate]     14              3  \n",
              "45                                                 [tax]      6              3  \n",
              "52              [want_know, file, tax, rental, property]     13              3  \n",
              "71                                          [late, file]      3              3  \n",
              "...                                                  ...    ...            ...  \n",
              "10444                              [penalty, file, late]      3              3  \n",
              "10475  [comment, mon, information, fiscale, reste, co...      3              3  \n",
              "10719  [date, time, electronically, file, income, tax...      3              3  \n",
              "10758                                        [file, tax]      3              3  \n",
              "10846           [file, property, tax, primary_residence]     13              3  \n",
              "\n",
              "[1339 rows x 8 columns]"
            ],
            "text/html": [
              "\n",
              "  <div id=\"df-5398548a-b51e-416c-9fa0-6f39250c7fca\" class=\"colab-df-container\">\n",
              "    <div>\n",
              "<style scoped>\n",
              "    .dataframe tbody tr th:only-of-type {\n",
              "        vertical-align: middle;\n",
              "    }\n",
              "\n",
              "    .dataframe tbody tr th {\n",
              "        vertical-align: top;\n",
              "    }\n",
              "\n",
              "    .dataframe thead th {\n",
              "        text-align: right;\n",
              "    }\n",
              "</style>\n",
              "<table border=\"1\" class=\"dataframe\">\n",
              "  <thead>\n",
              "    <tr style=\"text-align: right;\">\n",
              "      <th></th>\n",
              "      <th>questionTax</th>\n",
              "      <th>answerTax</th>\n",
              "      <th>clean_questions</th>\n",
              "      <th>clean_questions_unigrams</th>\n",
              "      <th>clean_questions_bigrams</th>\n",
              "      <th>clean_questions_trigrams</th>\n",
              "      <th>topic</th>\n",
              "      <th>cluster_label</th>\n",
              "    </tr>\n",
              "  </thead>\n",
              "  <tbody>\n",
              "    <tr>\n",
              "      <th>27</th>\n",
              "      <td>How do I file a section 85 rollover</td>\n",
              "      <td>If you want to file a Section 85 rollover, you...</td>\n",
              "      <td>[file, section, rollover]</td>\n",
              "      <td>[file, section, rollover]</td>\n",
              "      <td>[file, section, rollover]</td>\n",
              "      <td>[file, section, rollover]</td>\n",
              "      <td>13</td>\n",
              "      <td>3</td>\n",
              "    </tr>\n",
              "    <tr>\n",
              "      <th>42</th>\n",
              "      <td>What changes when you are separated?</td>\n",
              "      <td>When separating from your spouse or partner, t...</td>\n",
              "      <td>[change, separate]</td>\n",
              "      <td>[change, separate]</td>\n",
              "      <td>[change, separate]</td>\n",
              "      <td>[change, separate]</td>\n",
              "      <td>14</td>\n",
              "      <td>3</td>\n",
              "    </tr>\n",
              "    <tr>\n",
              "      <th>45</th>\n",
              "      <td>What are taxes?\\n</td>\n",
              "      <td>Taxes are mandatory payments that individuals ...</td>\n",
              "      <td>[tax]</td>\n",
              "      <td>[tax]</td>\n",
              "      <td>[tax]</td>\n",
              "      <td>[tax]</td>\n",
              "      <td>6</td>\n",
              "      <td>3</td>\n",
              "    </tr>\n",
              "    <tr>\n",
              "      <th>52</th>\n",
              "      <td>I want to know how to file tax for a rental pr...</td>\n",
              "      <td>If you're renting out a property in Canada, yo...</td>\n",
              "      <td>[want, know, file, tax, rental, property]</td>\n",
              "      <td>[want, know, file, tax, rental, property]</td>\n",
              "      <td>[want_know, file, tax, rental, property]</td>\n",
              "      <td>[want_know, file, tax, rental, property]</td>\n",
              "      <td>13</td>\n",
              "      <td>3</td>\n",
              "    </tr>\n",
              "    <tr>\n",
              "      <th>71</th>\n",
              "      <td>Late filing</td>\n",
              "      <td>If you are filing your taxes after the deadlin...</td>\n",
              "      <td>[late, file]</td>\n",
              "      <td>[late, file]</td>\n",
              "      <td>[late, file]</td>\n",
              "      <td>[late, file]</td>\n",
              "      <td>3</td>\n",
              "      <td>3</td>\n",
              "    </tr>\n",
              "    <tr>\n",
              "      <th>...</th>\n",
              "      <td>...</td>\n",
              "      <td>...</td>\n",
              "      <td>...</td>\n",
              "      <td>...</td>\n",
              "      <td>...</td>\n",
              "      <td>...</td>\n",
              "      <td>...</td>\n",
              "      <td>...</td>\n",
              "    </tr>\n",
              "    <tr>\n",
              "      <th>10444</th>\n",
              "      <td>what is the penalty for filing late?</td>\n",
              "      <td>If you file your taxes late, you may face pena...</td>\n",
              "      <td>[penalty, file, late]</td>\n",
              "      <td>[penalty, file, late]</td>\n",
              "      <td>[penalty, file, late]</td>\n",
              "      <td>[penalty, file, late]</td>\n",
              "      <td>3</td>\n",
              "      <td>3</td>\n",
              "    </tr>\n",
              "    <tr>\n",
              "      <th>10475</th>\n",
              "      <td>Comment mon information fiscale reste confiden...</td>\n",
              "      <td>En tant que résident canadien, votre informati...</td>\n",
              "      <td>[comment, mon, information, fiscale, reste, co...</td>\n",
              "      <td>[comment, mon, information, fiscale, reste, co...</td>\n",
              "      <td>[comment, mon, information, fiscale, reste, co...</td>\n",
              "      <td>[comment, mon, information, fiscale, reste, co...</td>\n",
              "      <td>3</td>\n",
              "      <td>3</td>\n",
              "    </tr>\n",
              "    <tr>\n",
              "      <th>10719</th>\n",
              "      <td>What date and time do I have to electronically...</td>\n",
              "      <td>For the 2022 tax year, the deadline for most i...</td>\n",
              "      <td>[date, time, electronically, file, income, tax...</td>\n",
              "      <td>[date, time, electronically, file, income, tax...</td>\n",
              "      <td>[date, time, electronically, file, income, tax...</td>\n",
              "      <td>[date, time, electronically, file, income, tax...</td>\n",
              "      <td>3</td>\n",
              "      <td>3</td>\n",
              "    </tr>\n",
              "    <tr>\n",
              "      <th>10758</th>\n",
              "      <td>How do I file my taxes?</td>\n",
              "      <td>To file your taxes in Canada, you will need to...</td>\n",
              "      <td>[file, tax]</td>\n",
              "      <td>[file, tax]</td>\n",
              "      <td>[file, tax]</td>\n",
              "      <td>[file, tax]</td>\n",
              "      <td>3</td>\n",
              "      <td>3</td>\n",
              "    </tr>\n",
              "    <tr>\n",
              "      <th>10846</th>\n",
              "      <td>can you file your property taxes on your prima...</td>\n",
              "      <td>In Canada, property taxes are typically assess...</td>\n",
              "      <td>[file, property, tax, primary, residence]</td>\n",
              "      <td>[file, property, tax, primary, residence]</td>\n",
              "      <td>[file, property, tax, primary_residence]</td>\n",
              "      <td>[file, property, tax, primary_residence]</td>\n",
              "      <td>13</td>\n",
              "      <td>3</td>\n",
              "    </tr>\n",
              "  </tbody>\n",
              "</table>\n",
              "<p>1339 rows × 8 columns</p>\n",
              "</div>\n",
              "    <div class=\"colab-df-buttons\">\n",
              "\n",
              "  <div class=\"colab-df-container\">\n",
              "    <button class=\"colab-df-convert\" onclick=\"convertToInteractive('df-5398548a-b51e-416c-9fa0-6f39250c7fca')\"\n",
              "            title=\"Convert this dataframe to an interactive table.\"\n",
              "            style=\"display:none;\">\n",
              "\n",
              "  <svg xmlns=\"http://www.w3.org/2000/svg\" height=\"24px\" viewBox=\"0 -960 960 960\">\n",
              "    <path d=\"M120-120v-720h720v720H120Zm60-500h600v-160H180v160Zm220 220h160v-160H400v160Zm0 220h160v-160H400v160ZM180-400h160v-160H180v160Zm440 0h160v-160H620v160ZM180-180h160v-160H180v160Zm440 0h160v-160H620v160Z\"/>\n",
              "  </svg>\n",
              "    </button>\n",
              "\n",
              "  <style>\n",
              "    .colab-df-container {\n",
              "      display:flex;\n",
              "      gap: 12px;\n",
              "    }\n",
              "\n",
              "    .colab-df-convert {\n",
              "      background-color: #E8F0FE;\n",
              "      border: none;\n",
              "      border-radius: 50%;\n",
              "      cursor: pointer;\n",
              "      display: none;\n",
              "      fill: #1967D2;\n",
              "      height: 32px;\n",
              "      padding: 0 0 0 0;\n",
              "      width: 32px;\n",
              "    }\n",
              "\n",
              "    .colab-df-convert:hover {\n",
              "      background-color: #E2EBFA;\n",
              "      box-shadow: 0px 1px 2px rgba(60, 64, 67, 0.3), 0px 1px 3px 1px rgba(60, 64, 67, 0.15);\n",
              "      fill: #174EA6;\n",
              "    }\n",
              "\n",
              "    .colab-df-buttons div {\n",
              "      margin-bottom: 4px;\n",
              "    }\n",
              "\n",
              "    [theme=dark] .colab-df-convert {\n",
              "      background-color: #3B4455;\n",
              "      fill: #D2E3FC;\n",
              "    }\n",
              "\n",
              "    [theme=dark] .colab-df-convert:hover {\n",
              "      background-color: #434B5C;\n",
              "      box-shadow: 0px 1px 3px 1px rgba(0, 0, 0, 0.15);\n",
              "      filter: drop-shadow(0px 1px 2px rgba(0, 0, 0, 0.3));\n",
              "      fill: #FFFFFF;\n",
              "    }\n",
              "  </style>\n",
              "\n",
              "    <script>\n",
              "      const buttonEl =\n",
              "        document.querySelector('#df-5398548a-b51e-416c-9fa0-6f39250c7fca button.colab-df-convert');\n",
              "      buttonEl.style.display =\n",
              "        google.colab.kernel.accessAllowed ? 'block' : 'none';\n",
              "\n",
              "      async function convertToInteractive(key) {\n",
              "        const element = document.querySelector('#df-5398548a-b51e-416c-9fa0-6f39250c7fca');\n",
              "        const dataTable =\n",
              "          await google.colab.kernel.invokeFunction('convertToInteractive',\n",
              "                                                    [key], {});\n",
              "        if (!dataTable) return;\n",
              "\n",
              "        const docLinkHtml = 'Like what you see? Visit the ' +\n",
              "          '<a target=\"_blank\" href=https://colab.research.google.com/notebooks/data_table.ipynb>data table notebook</a>'\n",
              "          + ' to learn more about interactive tables.';\n",
              "        element.innerHTML = '';\n",
              "        dataTable['output_type'] = 'display_data';\n",
              "        await google.colab.output.renderOutput(dataTable, element);\n",
              "        const docLink = document.createElement('div');\n",
              "        docLink.innerHTML = docLinkHtml;\n",
              "        element.appendChild(docLink);\n",
              "      }\n",
              "    </script>\n",
              "  </div>\n",
              "\n",
              "\n",
              "<div id=\"df-c197ea59-b774-402b-bd30-d88cb74e066f\">\n",
              "  <button class=\"colab-df-quickchart\" onclick=\"quickchart('df-c197ea59-b774-402b-bd30-d88cb74e066f')\"\n",
              "            title=\"Suggest charts\"\n",
              "            style=\"display:none;\">\n",
              "\n",
              "<svg xmlns=\"http://www.w3.org/2000/svg\" height=\"24px\"viewBox=\"0 0 24 24\"\n",
              "     width=\"24px\">\n",
              "    <g>\n",
              "        <path d=\"M19 3H5c-1.1 0-2 .9-2 2v14c0 1.1.9 2 2 2h14c1.1 0 2-.9 2-2V5c0-1.1-.9-2-2-2zM9 17H7v-7h2v7zm4 0h-2V7h2v10zm4 0h-2v-4h2v4z\"/>\n",
              "    </g>\n",
              "</svg>\n",
              "  </button>\n",
              "\n",
              "<style>\n",
              "  .colab-df-quickchart {\n",
              "      --bg-color: #E8F0FE;\n",
              "      --fill-color: #1967D2;\n",
              "      --hover-bg-color: #E2EBFA;\n",
              "      --hover-fill-color: #174EA6;\n",
              "      --disabled-fill-color: #AAA;\n",
              "      --disabled-bg-color: #DDD;\n",
              "  }\n",
              "\n",
              "  [theme=dark] .colab-df-quickchart {\n",
              "      --bg-color: #3B4455;\n",
              "      --fill-color: #D2E3FC;\n",
              "      --hover-bg-color: #434B5C;\n",
              "      --hover-fill-color: #FFFFFF;\n",
              "      --disabled-bg-color: #3B4455;\n",
              "      --disabled-fill-color: #666;\n",
              "  }\n",
              "\n",
              "  .colab-df-quickchart {\n",
              "    background-color: var(--bg-color);\n",
              "    border: none;\n",
              "    border-radius: 50%;\n",
              "    cursor: pointer;\n",
              "    display: none;\n",
              "    fill: var(--fill-color);\n",
              "    height: 32px;\n",
              "    padding: 0;\n",
              "    width: 32px;\n",
              "  }\n",
              "\n",
              "  .colab-df-quickchart:hover {\n",
              "    background-color: var(--hover-bg-color);\n",
              "    box-shadow: 0 1px 2px rgba(60, 64, 67, 0.3), 0 1px 3px 1px rgba(60, 64, 67, 0.15);\n",
              "    fill: var(--button-hover-fill-color);\n",
              "  }\n",
              "\n",
              "  .colab-df-quickchart-complete:disabled,\n",
              "  .colab-df-quickchart-complete:disabled:hover {\n",
              "    background-color: var(--disabled-bg-color);\n",
              "    fill: var(--disabled-fill-color);\n",
              "    box-shadow: none;\n",
              "  }\n",
              "\n",
              "  .colab-df-spinner {\n",
              "    border: 2px solid var(--fill-color);\n",
              "    border-color: transparent;\n",
              "    border-bottom-color: var(--fill-color);\n",
              "    animation:\n",
              "      spin 1s steps(1) infinite;\n",
              "  }\n",
              "\n",
              "  @keyframes spin {\n",
              "    0% {\n",
              "      border-color: transparent;\n",
              "      border-bottom-color: var(--fill-color);\n",
              "      border-left-color: var(--fill-color);\n",
              "    }\n",
              "    20% {\n",
              "      border-color: transparent;\n",
              "      border-left-color: var(--fill-color);\n",
              "      border-top-color: var(--fill-color);\n",
              "    }\n",
              "    30% {\n",
              "      border-color: transparent;\n",
              "      border-left-color: var(--fill-color);\n",
              "      border-top-color: var(--fill-color);\n",
              "      border-right-color: var(--fill-color);\n",
              "    }\n",
              "    40% {\n",
              "      border-color: transparent;\n",
              "      border-right-color: var(--fill-color);\n",
              "      border-top-color: var(--fill-color);\n",
              "    }\n",
              "    60% {\n",
              "      border-color: transparent;\n",
              "      border-right-color: var(--fill-color);\n",
              "    }\n",
              "    80% {\n",
              "      border-color: transparent;\n",
              "      border-right-color: var(--fill-color);\n",
              "      border-bottom-color: var(--fill-color);\n",
              "    }\n",
              "    90% {\n",
              "      border-color: transparent;\n",
              "      border-bottom-color: var(--fill-color);\n",
              "    }\n",
              "  }\n",
              "</style>\n",
              "\n",
              "  <script>\n",
              "    async function quickchart(key) {\n",
              "      const quickchartButtonEl =\n",
              "        document.querySelector('#' + key + ' button');\n",
              "      quickchartButtonEl.disabled = true;  // To prevent multiple clicks.\n",
              "      quickchartButtonEl.classList.add('colab-df-spinner');\n",
              "      try {\n",
              "        const charts = await google.colab.kernel.invokeFunction(\n",
              "            'suggestCharts', [key], {});\n",
              "      } catch (error) {\n",
              "        console.error('Error during call to suggestCharts:', error);\n",
              "      }\n",
              "      quickchartButtonEl.classList.remove('colab-df-spinner');\n",
              "      quickchartButtonEl.classList.add('colab-df-quickchart-complete');\n",
              "    }\n",
              "    (() => {\n",
              "      let quickchartButtonEl =\n",
              "        document.querySelector('#df-c197ea59-b774-402b-bd30-d88cb74e066f button');\n",
              "      quickchartButtonEl.style.display =\n",
              "        google.colab.kernel.accessAllowed ? 'block' : 'none';\n",
              "    })();\n",
              "  </script>\n",
              "</div>\n",
              "    </div>\n",
              "  </div>\n"
            ]
          },
          "metadata": {},
          "execution_count": 41
        }
      ],
      "source": [
        "df_final[df_final['cluster_label'] == 3]"
      ]
    },
    {
      "cell_type": "code",
      "execution_count": 42,
      "metadata": {
        "id": "bn15smqNzljw",
        "colab": {
          "base_uri": "https://localhost:8080/"
        },
        "outputId": "c5ccc059-4ec6-422d-dd2a-1d2c413b5d2b"
      },
      "outputs": [
        {
          "output_type": "stream",
          "name": "stdout",
          "text": [
            "[[0.03333417 0.03333417 0.03333417 ... 0.03333417 0.53332156 0.03333417]\n",
            " [0.02223041 0.02223041 0.02223041 ... 0.02223041 0.02223041 0.02223041]\n",
            " [0.35002789 0.01333538 0.01333539 ... 0.27658346 0.01333538 0.01333538]\n",
            " ...\n",
            " [0.02222298 0.02222298 0.02222298 ... 0.35556677 0.02222298 0.02222298]\n",
            " [0.01333341 0.01333341 0.01333341 ... 0.01333342 0.45649028 0.01333341]\n",
            " [0.         0.11850999 0.34074727 ... 0.         0.         0.10021824]]\n"
          ]
        }
      ],
      "source": [
        "print(doc_topic_matrix)"
      ]
    },
    {
      "cell_type": "code",
      "execution_count": 43,
      "metadata": {
        "id": "1EMpeH98zWGS",
        "colab": {
          "base_uri": "https://localhost:8080/",
          "height": 564
        },
        "outputId": "a5d4f417-764c-402f-9477-f79641422cca"
      },
      "outputs": [
        {
          "output_type": "display_data",
          "data": {
            "text/plain": [
              "<Figure size 800x600 with 2 Axes>"
            ],
            "image/png": "[encoded data removed]"
          },
          "metadata": {}
        }
      ],
      "source": [
        "# Plot clusters in the original feature space (if the feature space is more than 2D, this won't be a 2D plot)\n",
        "plt.figure(figsize=(8, 6))\n",
        "\n",
        "# Plot clusters based on a specific dimension (e.g., the first two dimensions)\n",
        "plt.scatter(doc_topic_matrix[:, 0], doc_topic_matrix[:, 1], c=clusters, cmap='viridis')\n",
        "plt.title('Document Clusters after LDA and K-means')\n",
        "plt.xlabel('Feature 1')\n",
        "plt.ylabel('Feature 2')\n",
        "plt.colorbar(label='Cluster')\n",
        "plt.show()"
      ]
    },
    {
      "cell_type": "markdown",
      "source": [
        "To evaluate this KNN model, we would need \"truth labels\"\n",
        "In the context of machine learning, \"truth labels\" or \"ground truth labels\" refer to the known and correct outcomes or classifications associated with a set of data points. Ground truth labels serve as a reference against which the predictions or results of a machine learning model can be compared. These labels are typically provided by human experts, external sources, or through some established criteria.\n",
        "\n",
        "In supervised learning scenarios, the dataset is labeled with ground truth information, indicating the correct class or category for each example. For example, in a classification task, the ground truth labels would be the actual classes assigned to each data point.\n",
        "\n",
        "In unsupervised learning or clustering scenarios, where the goal is to discover patterns or groupings within the data, ground truth labels may not be available. In such cases, internal metrics or domain-specific criteria are often used to evaluate the quality of the clusters.\n",
        "\n",
        "Having ground truth labels is crucial for assessing the performance and accuracy of machine learning models, especially in supervised learning tasks where the model is trained to make predictions based on labeled examples. However, not all machine learning tasks have access to ground truth labels, and in such cases, alternative evaluation methods are employed."
      ],
      "metadata": {
        "id": "W8oppwTYdlSM"
      }
    },
    {
      "cell_type": "markdown",
      "source": [
        "Checking Other methods to evaluate Clusters"
      ],
      "metadata": {
        "id": "zDXlb4XRd5VZ"
      }
    },
    {
      "cell_type": "markdown",
      "source": [],
      "metadata": {
        "id": "aMVas2Kqd5TG"
      }
    },
    {
      "cell_type": "code",
      "source": [
        "from sklearn.metrics import silhouette_score\n",
        "\n",
        "silhouette_avg = silhouette_score(doc_topic_matrix, clusters)\n",
        "print(f\"Silhouette Score: {silhouette_avg}\")\n"
      ],
      "metadata": {
        "colab": {
          "base_uri": "https://localhost:8080/"
        },
        "id": "qo3uSJM6AS5u",
        "outputId": "959da52d-b8a7-4b88-ca51-8c986a3096a4"
      },
      "execution_count": 45,
      "outputs": [
        {
          "output_type": "stream",
          "name": "stdout",
          "text": [
            "Silhouette Score: 0.20397734005044563\n"
          ]
        }
      ]
    },
    {
      "cell_type": "markdown",
      "source": [
        "\n",
        "A Silhouette Score of 0.2039 indicates a moderate level of separation between the clusters. The score ranges from -1 to 1, where higher values indicate better-defined clusters. A score around 0.2 suggests that the clusters are reasonably well-separated. However, it's essential to interpret the Silhouette Score in conjunction with other evaluation metrics and domain knowledge."
      ],
      "metadata": {
        "id": "_M5ImN5CeJPp"
      }
    },
    {
      "cell_type": "code",
      "source": [
        "from sklearn.metrics import davies_bouldin_score\n",
        "\n",
        "db_index = davies_bouldin_score(doc_topic_matrix, clusters)\n",
        "print(f\"Davies-Bouldin Index: {db_index}\")\n"
      ],
      "metadata": {
        "colab": {
          "base_uri": "https://localhost:8080/"
        },
        "id": "rghWuTZ4d9pu",
        "outputId": "bc7b48be-f3ff-429c-afaa-8b93aac45b02"
      },
      "execution_count": 46,
      "outputs": [
        {
          "output_type": "stream",
          "name": "stdout",
          "text": [
            "Davies-Bouldin Index: 1.7309179954643914\n"
          ]
        }
      ]
    },
    {
      "cell_type": "markdown",
      "source": [
        "The Davies-Bouldin Index of 1.7309 suggests a moderate level of cluster compactness and separation. This index measures the average similarity-to-dissimilarity ratio between each cluster and its most similar cluster. A lower Davies-Bouldin Index generally indicates better clustering, with values closer to 0 representing well-separated and compact clusters. While 1.7309 is not extremely low, it's important to consider this result in combination with other metrics and domain knowledge to assess the effectiveness of the clustering algorithm for your specific dataset and goals."
      ],
      "metadata": {
        "id": "nBfjq-aDeUYR"
      }
    },
    {
      "cell_type": "code",
      "source": [
        "from sklearn.metrics import calinski_harabasz_score\n",
        "\n",
        "ch_index = calinski_harabasz_score(doc_topic_matrix, clusters)\n",
        "print(f\"Calinski-Harabasz Index: {ch_index}\")"
      ],
      "metadata": {
        "colab": {
          "base_uri": "https://localhost:8080/"
        },
        "id": "ML2Nh7Omd9nZ",
        "outputId": "4f2c6ea2-0e84-4e49-989f-bc651c62bdcc"
      },
      "execution_count": 47,
      "outputs": [
        {
          "output_type": "stream",
          "name": "stdout",
          "text": [
            "Calinski-Harabasz Index: 1214.7086029551513\n"
          ]
        }
      ]
    },
    {
      "cell_type": "markdown",
      "source": [
        "The Calinski-Harabasz Index is a measure of cluster validity that assesses the quality of clustering based on the ratio of between-cluster variance to within-cluster variance. A higher Calinski-Harabasz Index suggests better-defined and more separated clusters.\n",
        "\n",
        "In your case, a Calinski-Harabasz Index value of 1214.7086 indicates a relatively high separation between clusters. The interpretation of the index depends on the specific dataset and problem context, but a larger index is generally considered indicative of better clustering.\n",
        "\n",
        "It's important to note that while the Calinski-Harabasz Index provides a numerical measure of clustering quality, it should be interpreted in conjunction with other metrics and, if possible, validated through visual inspection of the clusters and consideration of domain-specific knowledge. Additionally, the interpretation of the index may vary depending on the scale and nature of your data."
      ],
      "metadata": {
        "id": "NF3x0dnKelMJ"
      }
    },
    {
      "cell_type": "code",
      "source": [],
      "metadata": {
        "id": "t5IwoeX1edeV"
      },
      "execution_count": null,
      "outputs": []
    }
  ],
  "metadata": {
    "colab": {
      "provenance": []
    },
    "kernelspec": {
      "display_name": "Python 3",
      "name": "python3"
    },
    "language_info": {
      "name": "python"
    }
  },
  "nbformat": 4,
  "nbformat_minor": 0
}